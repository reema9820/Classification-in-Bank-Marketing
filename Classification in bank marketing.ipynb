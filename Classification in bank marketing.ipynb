{
 "cells": [
  {
   "cell_type": "markdown",
   "id": "aa73d728",
   "metadata": {
    "papermill": {
     "duration": 0.105256,
     "end_time": "2022-05-19T19:04:42.830279",
     "exception": false,
     "start_time": "2022-05-19T19:04:42.725023",
     "status": "completed"
    },
    "tags": []
   },
   "source": [
    "## Part I: Supervised Learning \n"
   ]
  },
  {
   "cell_type": "code",
   "execution_count": 1,
   "id": "cc860115",
   "metadata": {
    "execution": {
     "iopub.execute_input": "2022-05-19T19:04:43.037059Z",
     "iopub.status.busy": "2022-05-19T19:04:43.036327Z",
     "iopub.status.idle": "2022-05-19T19:04:46.404973Z",
     "shell.execute_reply": "2022-05-19T19:04:46.403408Z"
    },
    "papermill": {
     "duration": 3.475232,
     "end_time": "2022-05-19T19:04:46.407939",
     "exception": false,
     "start_time": "2022-05-19T19:04:42.932707",
     "status": "completed"
    },
    "tags": []
   },
   "outputs": [],
   "source": [
    "import numpy as np\n",
    "import pandas as pd\n",
    "import matplotlib.pyplot as plt\n",
    "import seaborn as sns\n",
    "import statsmodels.api as sm\n",
    "from statsmodels.formula.api import ols\n",
    "from warnings import filterwarnings\n",
    "from statsmodels.stats.multicomp import pairwise_tukeyhsd\n",
    "filterwarnings('ignore')\n",
    "plt.rcParams['figure.figsize'] = (15,8)\n",
    "from scipy.stats import chi2, chi2_contingency\n",
    "import scipy\n",
    "from sklearn.metrics import classification_report\n",
    "from scipy import stats\n",
    "from sklearn.ensemble import RandomForestClassifier\n",
    "from sklearn.feature_selection import SelectFromModel\n",
    "from sklearn.model_selection import train_test_split\n",
    "from sklearn.utils import resample"
   ]
  },
  {
   "cell_type": "code",
   "execution_count": 2,
   "id": "598aeeb6",
   "metadata": {},
   "outputs": [
    {
     "name": "stdout",
     "output_type": "stream",
     "text": [
      "C:\\Users\\Win\\Documents\\Machine Learning\\Exam1\n"
     ]
    }
   ],
   "source": [
    "import os\n",
    "print(os.getcwd())"
   ]
  },
  {
   "cell_type": "markdown",
   "id": "80471158",
   "metadata": {},
   "source": [
    "# READ THE DATA"
   ]
  },
  {
   "cell_type": "code",
   "execution_count": 3,
   "id": "8afc5ba8",
   "metadata": {
    "execution": {
     "iopub.execute_input": "2022-05-19T19:04:46.616048Z",
     "iopub.status.busy": "2022-05-19T19:04:46.615806Z",
     "iopub.status.idle": "2022-05-19T19:04:46.998495Z",
     "shell.execute_reply": "2022-05-19T19:04:46.997212Z"
    },
    "papermill": {
     "duration": 0.490453,
     "end_time": "2022-05-19T19:04:47.001750",
     "exception": false,
     "start_time": "2022-05-19T19:04:46.511297",
     "status": "completed"
    },
    "tags": []
   },
   "outputs": [
    {
     "data": {
      "text/html": [
       "<div>\n",
       "<style scoped>\n",
       "    .dataframe tbody tr th:only-of-type {\n",
       "        vertical-align: middle;\n",
       "    }\n",
       "\n",
       "    .dataframe tbody tr th {\n",
       "        vertical-align: top;\n",
       "    }\n",
       "\n",
       "    .dataframe thead th {\n",
       "        text-align: right;\n",
       "    }\n",
       "</style>\n",
       "<table border=\"1\" class=\"dataframe\">\n",
       "  <thead>\n",
       "    <tr style=\"text-align: right;\">\n",
       "      <th></th>\n",
       "      <th>age</th>\n",
       "      <th>job</th>\n",
       "      <th>marital</th>\n",
       "      <th>education</th>\n",
       "      <th>default</th>\n",
       "      <th>housing</th>\n",
       "      <th>loan</th>\n",
       "      <th>contact</th>\n",
       "      <th>month</th>\n",
       "      <th>day_of_week</th>\n",
       "      <th>duration</th>\n",
       "      <th>campaign</th>\n",
       "      <th>pdays</th>\n",
       "      <th>previous</th>\n",
       "      <th>poutcome</th>\n",
       "      <th>emp.var.rate</th>\n",
       "      <th>cons.price.idx</th>\n",
       "      <th>cons.conf.idx</th>\n",
       "      <th>euribor3m</th>\n",
       "      <th>nr.employed</th>\n",
       "      <th>y</th>\n",
       "    </tr>\n",
       "  </thead>\n",
       "  <tbody>\n",
       "    <tr>\n",
       "      <th>0</th>\n",
       "      <td>56</td>\n",
       "      <td>housemaid</td>\n",
       "      <td>married</td>\n",
       "      <td>basic.4y</td>\n",
       "      <td>no</td>\n",
       "      <td>no</td>\n",
       "      <td>no</td>\n",
       "      <td>telephone</td>\n",
       "      <td>may</td>\n",
       "      <td>mon</td>\n",
       "      <td>261</td>\n",
       "      <td>1</td>\n",
       "      <td>999</td>\n",
       "      <td>0</td>\n",
       "      <td>nonexistent</td>\n",
       "      <td>1.1</td>\n",
       "      <td>93.994</td>\n",
       "      <td>-36.4</td>\n",
       "      <td>4.857</td>\n",
       "      <td>5191.0</td>\n",
       "      <td>no</td>\n",
       "    </tr>\n",
       "    <tr>\n",
       "      <th>1</th>\n",
       "      <td>57</td>\n",
       "      <td>services</td>\n",
       "      <td>married</td>\n",
       "      <td>high.school</td>\n",
       "      <td>unknown</td>\n",
       "      <td>no</td>\n",
       "      <td>no</td>\n",
       "      <td>telephone</td>\n",
       "      <td>may</td>\n",
       "      <td>mon</td>\n",
       "      <td>149</td>\n",
       "      <td>1</td>\n",
       "      <td>999</td>\n",
       "      <td>0</td>\n",
       "      <td>nonexistent</td>\n",
       "      <td>1.1</td>\n",
       "      <td>93.994</td>\n",
       "      <td>-36.4</td>\n",
       "      <td>4.857</td>\n",
       "      <td>5191.0</td>\n",
       "      <td>no</td>\n",
       "    </tr>\n",
       "    <tr>\n",
       "      <th>2</th>\n",
       "      <td>37</td>\n",
       "      <td>services</td>\n",
       "      <td>married</td>\n",
       "      <td>high.school</td>\n",
       "      <td>no</td>\n",
       "      <td>yes</td>\n",
       "      <td>no</td>\n",
       "      <td>telephone</td>\n",
       "      <td>may</td>\n",
       "      <td>mon</td>\n",
       "      <td>226</td>\n",
       "      <td>1</td>\n",
       "      <td>999</td>\n",
       "      <td>0</td>\n",
       "      <td>nonexistent</td>\n",
       "      <td>1.1</td>\n",
       "      <td>93.994</td>\n",
       "      <td>-36.4</td>\n",
       "      <td>4.857</td>\n",
       "      <td>5191.0</td>\n",
       "      <td>no</td>\n",
       "    </tr>\n",
       "    <tr>\n",
       "      <th>3</th>\n",
       "      <td>40</td>\n",
       "      <td>admin.</td>\n",
       "      <td>married</td>\n",
       "      <td>basic.6y</td>\n",
       "      <td>no</td>\n",
       "      <td>no</td>\n",
       "      <td>no</td>\n",
       "      <td>telephone</td>\n",
       "      <td>may</td>\n",
       "      <td>mon</td>\n",
       "      <td>151</td>\n",
       "      <td>1</td>\n",
       "      <td>999</td>\n",
       "      <td>0</td>\n",
       "      <td>nonexistent</td>\n",
       "      <td>1.1</td>\n",
       "      <td>93.994</td>\n",
       "      <td>-36.4</td>\n",
       "      <td>4.857</td>\n",
       "      <td>5191.0</td>\n",
       "      <td>no</td>\n",
       "    </tr>\n",
       "    <tr>\n",
       "      <th>4</th>\n",
       "      <td>56</td>\n",
       "      <td>services</td>\n",
       "      <td>married</td>\n",
       "      <td>high.school</td>\n",
       "      <td>no</td>\n",
       "      <td>no</td>\n",
       "      <td>yes</td>\n",
       "      <td>telephone</td>\n",
       "      <td>may</td>\n",
       "      <td>mon</td>\n",
       "      <td>307</td>\n",
       "      <td>1</td>\n",
       "      <td>999</td>\n",
       "      <td>0</td>\n",
       "      <td>nonexistent</td>\n",
       "      <td>1.1</td>\n",
       "      <td>93.994</td>\n",
       "      <td>-36.4</td>\n",
       "      <td>4.857</td>\n",
       "      <td>5191.0</td>\n",
       "      <td>no</td>\n",
       "    </tr>\n",
       "    <tr>\n",
       "      <th>...</th>\n",
       "      <td>...</td>\n",
       "      <td>...</td>\n",
       "      <td>...</td>\n",
       "      <td>...</td>\n",
       "      <td>...</td>\n",
       "      <td>...</td>\n",
       "      <td>...</td>\n",
       "      <td>...</td>\n",
       "      <td>...</td>\n",
       "      <td>...</td>\n",
       "      <td>...</td>\n",
       "      <td>...</td>\n",
       "      <td>...</td>\n",
       "      <td>...</td>\n",
       "      <td>...</td>\n",
       "      <td>...</td>\n",
       "      <td>...</td>\n",
       "      <td>...</td>\n",
       "      <td>...</td>\n",
       "      <td>...</td>\n",
       "      <td>...</td>\n",
       "    </tr>\n",
       "    <tr>\n",
       "      <th>41183</th>\n",
       "      <td>73</td>\n",
       "      <td>retired</td>\n",
       "      <td>married</td>\n",
       "      <td>professional.course</td>\n",
       "      <td>no</td>\n",
       "      <td>yes</td>\n",
       "      <td>no</td>\n",
       "      <td>cellular</td>\n",
       "      <td>nov</td>\n",
       "      <td>fri</td>\n",
       "      <td>334</td>\n",
       "      <td>1</td>\n",
       "      <td>999</td>\n",
       "      <td>0</td>\n",
       "      <td>nonexistent</td>\n",
       "      <td>-1.1</td>\n",
       "      <td>94.767</td>\n",
       "      <td>-50.8</td>\n",
       "      <td>1.028</td>\n",
       "      <td>4963.6</td>\n",
       "      <td>yes</td>\n",
       "    </tr>\n",
       "    <tr>\n",
       "      <th>41184</th>\n",
       "      <td>46</td>\n",
       "      <td>blue-collar</td>\n",
       "      <td>married</td>\n",
       "      <td>professional.course</td>\n",
       "      <td>no</td>\n",
       "      <td>no</td>\n",
       "      <td>no</td>\n",
       "      <td>cellular</td>\n",
       "      <td>nov</td>\n",
       "      <td>fri</td>\n",
       "      <td>383</td>\n",
       "      <td>1</td>\n",
       "      <td>999</td>\n",
       "      <td>0</td>\n",
       "      <td>nonexistent</td>\n",
       "      <td>-1.1</td>\n",
       "      <td>94.767</td>\n",
       "      <td>-50.8</td>\n",
       "      <td>1.028</td>\n",
       "      <td>4963.6</td>\n",
       "      <td>no</td>\n",
       "    </tr>\n",
       "    <tr>\n",
       "      <th>41185</th>\n",
       "      <td>56</td>\n",
       "      <td>retired</td>\n",
       "      <td>married</td>\n",
       "      <td>university.degree</td>\n",
       "      <td>no</td>\n",
       "      <td>yes</td>\n",
       "      <td>no</td>\n",
       "      <td>cellular</td>\n",
       "      <td>nov</td>\n",
       "      <td>fri</td>\n",
       "      <td>189</td>\n",
       "      <td>2</td>\n",
       "      <td>999</td>\n",
       "      <td>0</td>\n",
       "      <td>nonexistent</td>\n",
       "      <td>-1.1</td>\n",
       "      <td>94.767</td>\n",
       "      <td>-50.8</td>\n",
       "      <td>1.028</td>\n",
       "      <td>4963.6</td>\n",
       "      <td>no</td>\n",
       "    </tr>\n",
       "    <tr>\n",
       "      <th>41186</th>\n",
       "      <td>44</td>\n",
       "      <td>technician</td>\n",
       "      <td>married</td>\n",
       "      <td>professional.course</td>\n",
       "      <td>no</td>\n",
       "      <td>no</td>\n",
       "      <td>no</td>\n",
       "      <td>cellular</td>\n",
       "      <td>nov</td>\n",
       "      <td>fri</td>\n",
       "      <td>442</td>\n",
       "      <td>1</td>\n",
       "      <td>999</td>\n",
       "      <td>0</td>\n",
       "      <td>nonexistent</td>\n",
       "      <td>-1.1</td>\n",
       "      <td>94.767</td>\n",
       "      <td>-50.8</td>\n",
       "      <td>1.028</td>\n",
       "      <td>4963.6</td>\n",
       "      <td>yes</td>\n",
       "    </tr>\n",
       "    <tr>\n",
       "      <th>41187</th>\n",
       "      <td>74</td>\n",
       "      <td>retired</td>\n",
       "      <td>married</td>\n",
       "      <td>professional.course</td>\n",
       "      <td>no</td>\n",
       "      <td>yes</td>\n",
       "      <td>no</td>\n",
       "      <td>cellular</td>\n",
       "      <td>nov</td>\n",
       "      <td>fri</td>\n",
       "      <td>239</td>\n",
       "      <td>3</td>\n",
       "      <td>999</td>\n",
       "      <td>1</td>\n",
       "      <td>failure</td>\n",
       "      <td>-1.1</td>\n",
       "      <td>94.767</td>\n",
       "      <td>-50.8</td>\n",
       "      <td>1.028</td>\n",
       "      <td>4963.6</td>\n",
       "      <td>no</td>\n",
       "    </tr>\n",
       "  </tbody>\n",
       "</table>\n",
       "<p>41188 rows × 21 columns</p>\n",
       "</div>"
      ],
      "text/plain": [
       "       age          job  marital            education  default housing loan  \\\n",
       "0       56    housemaid  married             basic.4y       no      no   no   \n",
       "1       57     services  married          high.school  unknown      no   no   \n",
       "2       37     services  married          high.school       no     yes   no   \n",
       "3       40       admin.  married             basic.6y       no      no   no   \n",
       "4       56     services  married          high.school       no      no  yes   \n",
       "...    ...          ...      ...                  ...      ...     ...  ...   \n",
       "41183   73      retired  married  professional.course       no     yes   no   \n",
       "41184   46  blue-collar  married  professional.course       no      no   no   \n",
       "41185   56      retired  married    university.degree       no     yes   no   \n",
       "41186   44   technician  married  professional.course       no      no   no   \n",
       "41187   74      retired  married  professional.course       no     yes   no   \n",
       "\n",
       "         contact month day_of_week  duration  campaign  pdays  previous  \\\n",
       "0      telephone   may         mon       261         1    999         0   \n",
       "1      telephone   may         mon       149         1    999         0   \n",
       "2      telephone   may         mon       226         1    999         0   \n",
       "3      telephone   may         mon       151         1    999         0   \n",
       "4      telephone   may         mon       307         1    999         0   \n",
       "...          ...   ...         ...       ...       ...    ...       ...   \n",
       "41183   cellular   nov         fri       334         1    999         0   \n",
       "41184   cellular   nov         fri       383         1    999         0   \n",
       "41185   cellular   nov         fri       189         2    999         0   \n",
       "41186   cellular   nov         fri       442         1    999         0   \n",
       "41187   cellular   nov         fri       239         3    999         1   \n",
       "\n",
       "          poutcome  emp.var.rate  cons.price.idx  cons.conf.idx  euribor3m  \\\n",
       "0      nonexistent           1.1          93.994          -36.4      4.857   \n",
       "1      nonexistent           1.1          93.994          -36.4      4.857   \n",
       "2      nonexistent           1.1          93.994          -36.4      4.857   \n",
       "3      nonexistent           1.1          93.994          -36.4      4.857   \n",
       "4      nonexistent           1.1          93.994          -36.4      4.857   \n",
       "...            ...           ...             ...            ...        ...   \n",
       "41183  nonexistent          -1.1          94.767          -50.8      1.028   \n",
       "41184  nonexistent          -1.1          94.767          -50.8      1.028   \n",
       "41185  nonexistent          -1.1          94.767          -50.8      1.028   \n",
       "41186  nonexistent          -1.1          94.767          -50.8      1.028   \n",
       "41187      failure          -1.1          94.767          -50.8      1.028   \n",
       "\n",
       "       nr.employed    y  \n",
       "0           5191.0   no  \n",
       "1           5191.0   no  \n",
       "2           5191.0   no  \n",
       "3           5191.0   no  \n",
       "4           5191.0   no  \n",
       "...            ...  ...  \n",
       "41183       4963.6  yes  \n",
       "41184       4963.6   no  \n",
       "41185       4963.6   no  \n",
       "41186       4963.6  yes  \n",
       "41187       4963.6   no  \n",
       "\n",
       "[41188 rows x 21 columns]"
      ]
     },
     "execution_count": 3,
     "metadata": {},
     "output_type": "execute_result"
    }
   ],
   "source": [
    "data=pd.read_csv(\"C:/Users/Win/Documents/Machine Learning/Exam1/bank.csv\",delimiter=';')\n",
    "pd.options.display.max_columns=100\n",
    "data"
   ]
  },
  {
   "cell_type": "code",
   "execution_count": 4,
   "id": "d175194b",
   "metadata": {
    "execution": {
     "iopub.execute_input": "2022-05-19T19:04:47.213794Z",
     "iopub.status.busy": "2022-05-19T19:04:47.213306Z",
     "iopub.status.idle": "2022-05-19T19:04:47.289583Z",
     "shell.execute_reply": "2022-05-19T19:04:47.287423Z"
    },
    "papermill": {
     "duration": 0.18523,
     "end_time": "2022-05-19T19:04:47.292300",
     "exception": false,
     "start_time": "2022-05-19T19:04:47.107070",
     "status": "completed"
    },
    "tags": []
   },
   "outputs": [
    {
     "name": "stdout",
     "output_type": "stream",
     "text": [
      "<class 'pandas.core.frame.DataFrame'>\n",
      "RangeIndex: 41188 entries, 0 to 41187\n",
      "Data columns (total 21 columns):\n",
      " #   Column          Non-Null Count  Dtype  \n",
      "---  ------          --------------  -----  \n",
      " 0   age             41188 non-null  int64  \n",
      " 1   job             41188 non-null  object \n",
      " 2   marital         41188 non-null  object \n",
      " 3   education       41188 non-null  object \n",
      " 4   default         41188 non-null  object \n",
      " 5   housing         41188 non-null  object \n",
      " 6   loan            41188 non-null  object \n",
      " 7   contact         41188 non-null  object \n",
      " 8   month           41188 non-null  object \n",
      " 9   day_of_week     41188 non-null  object \n",
      " 10  duration        41188 non-null  int64  \n",
      " 11  campaign        41188 non-null  int64  \n",
      " 12  pdays           41188 non-null  int64  \n",
      " 13  previous        41188 non-null  int64  \n",
      " 14  poutcome        41188 non-null  object \n",
      " 15  emp.var.rate    41188 non-null  float64\n",
      " 16  cons.price.idx  41188 non-null  float64\n",
      " 17  cons.conf.idx   41188 non-null  float64\n",
      " 18  euribor3m       41188 non-null  float64\n",
      " 19  nr.employed     41188 non-null  float64\n",
      " 20  y               41188 non-null  object \n",
      "dtypes: float64(5), int64(5), object(11)\n",
      "memory usage: 6.6+ MB\n"
     ]
    }
   ],
   "source": [
    "data.info()"
   ]
  },
  {
   "cell_type": "markdown",
   "id": "027226b1",
   "metadata": {},
   "source": [
    "# MISSING VALUE CHECKING "
   ]
  },
  {
   "cell_type": "code",
   "execution_count": 5,
   "id": "e3ce5222",
   "metadata": {},
   "outputs": [
    {
     "data": {
      "text/plain": [
       "Series([], dtype: int64)"
      ]
     },
     "execution_count": 5,
     "metadata": {},
     "output_type": "execute_result"
    }
   ],
   "source": [
    "missing_value= data.isnull().sum().sort_values(ascending=False)\n",
    "missing_value[missing_value>0]"
   ]
  },
  {
   "cell_type": "code",
   "execution_count": 6,
   "id": "d205fc0c",
   "metadata": {},
   "outputs": [],
   "source": [
    "# no missing value found"
   ]
  },
  {
   "cell_type": "markdown",
   "id": "e8076445",
   "metadata": {
    "papermill": {
     "duration": 0.107154,
     "end_time": "2022-05-19T19:04:47.505367",
     "exception": false,
     "start_time": "2022-05-19T19:04:47.398213",
     "status": "completed"
    },
    "tags": []
   },
   "source": [
    "### 1. What does the primary analysis of several categorical features reveal?\n",
    "\n",
    "Dividing the Data into categorical and numerical Features"
   ]
  },
  {
   "cell_type": "code",
   "execution_count": 7,
   "id": "eb77afc4",
   "metadata": {},
   "outputs": [
    {
     "name": "stdout",
     "output_type": "stream",
     "text": [
      "Number of numerical variables:  10\n"
     ]
    },
    {
     "data": {
      "text/html": [
       "<div>\n",
       "<style scoped>\n",
       "    .dataframe tbody tr th:only-of-type {\n",
       "        vertical-align: middle;\n",
       "    }\n",
       "\n",
       "    .dataframe tbody tr th {\n",
       "        vertical-align: top;\n",
       "    }\n",
       "\n",
       "    .dataframe thead th {\n",
       "        text-align: right;\n",
       "    }\n",
       "</style>\n",
       "<table border=\"1\" class=\"dataframe\">\n",
       "  <thead>\n",
       "    <tr style=\"text-align: right;\">\n",
       "      <th></th>\n",
       "      <th>age</th>\n",
       "      <th>duration</th>\n",
       "      <th>campaign</th>\n",
       "      <th>pdays</th>\n",
       "      <th>previous</th>\n",
       "      <th>emp.var.rate</th>\n",
       "      <th>cons.price.idx</th>\n",
       "      <th>cons.conf.idx</th>\n",
       "      <th>euribor3m</th>\n",
       "      <th>nr.employed</th>\n",
       "    </tr>\n",
       "  </thead>\n",
       "  <tbody>\n",
       "    <tr>\n",
       "      <th>0</th>\n",
       "      <td>56</td>\n",
       "      <td>261</td>\n",
       "      <td>1</td>\n",
       "      <td>999</td>\n",
       "      <td>0</td>\n",
       "      <td>1.1</td>\n",
       "      <td>93.994</td>\n",
       "      <td>-36.4</td>\n",
       "      <td>4.857</td>\n",
       "      <td>5191.0</td>\n",
       "    </tr>\n",
       "    <tr>\n",
       "      <th>1</th>\n",
       "      <td>57</td>\n",
       "      <td>149</td>\n",
       "      <td>1</td>\n",
       "      <td>999</td>\n",
       "      <td>0</td>\n",
       "      <td>1.1</td>\n",
       "      <td>93.994</td>\n",
       "      <td>-36.4</td>\n",
       "      <td>4.857</td>\n",
       "      <td>5191.0</td>\n",
       "    </tr>\n",
       "    <tr>\n",
       "      <th>2</th>\n",
       "      <td>37</td>\n",
       "      <td>226</td>\n",
       "      <td>1</td>\n",
       "      <td>999</td>\n",
       "      <td>0</td>\n",
       "      <td>1.1</td>\n",
       "      <td>93.994</td>\n",
       "      <td>-36.4</td>\n",
       "      <td>4.857</td>\n",
       "      <td>5191.0</td>\n",
       "    </tr>\n",
       "    <tr>\n",
       "      <th>3</th>\n",
       "      <td>40</td>\n",
       "      <td>151</td>\n",
       "      <td>1</td>\n",
       "      <td>999</td>\n",
       "      <td>0</td>\n",
       "      <td>1.1</td>\n",
       "      <td>93.994</td>\n",
       "      <td>-36.4</td>\n",
       "      <td>4.857</td>\n",
       "      <td>5191.0</td>\n",
       "    </tr>\n",
       "    <tr>\n",
       "      <th>4</th>\n",
       "      <td>56</td>\n",
       "      <td>307</td>\n",
       "      <td>1</td>\n",
       "      <td>999</td>\n",
       "      <td>0</td>\n",
       "      <td>1.1</td>\n",
       "      <td>93.994</td>\n",
       "      <td>-36.4</td>\n",
       "      <td>4.857</td>\n",
       "      <td>5191.0</td>\n",
       "    </tr>\n",
       "  </tbody>\n",
       "</table>\n",
       "</div>"
      ],
      "text/plain": [
       "   age  duration  campaign  pdays  previous  emp.var.rate  cons.price.idx  \\\n",
       "0   56       261         1    999         0           1.1          93.994   \n",
       "1   57       149         1    999         0           1.1          93.994   \n",
       "2   37       226         1    999         0           1.1          93.994   \n",
       "3   40       151         1    999         0           1.1          93.994   \n",
       "4   56       307         1    999         0           1.1          93.994   \n",
       "\n",
       "   cons.conf.idx  euribor3m  nr.employed  \n",
       "0          -36.4      4.857       5191.0  \n",
       "1          -36.4      4.857       5191.0  \n",
       "2          -36.4      4.857       5191.0  \n",
       "3          -36.4      4.857       5191.0  \n",
       "4          -36.4      4.857       5191.0  "
      ]
     },
     "execution_count": 7,
     "metadata": {},
     "output_type": "execute_result"
    }
   ],
   "source": [
    "# list of numerical variables\n",
    "numerical_features = [feature for feature in data.columns if data[feature].dtypes != 'O']\n",
    "print('Number of numerical variables: ', len(numerical_features))\n",
    "# visualise the numerical variables\n",
    "data[numerical_features].head()"
   ]
  },
  {
   "cell_type": "code",
   "execution_count": 8,
   "id": "36394f0f",
   "metadata": {
    "execution": {
     "iopub.execute_input": "2022-05-19T19:04:47.718043Z",
     "iopub.status.busy": "2022-05-19T19:04:47.717750Z",
     "iopub.status.idle": "2022-05-19T19:04:47.731478Z",
     "shell.execute_reply": "2022-05-19T19:04:47.730873Z"
    },
    "papermill": {
     "duration": 0.122864,
     "end_time": "2022-05-19T19:04:47.734288",
     "exception": false,
     "start_time": "2022-05-19T19:04:47.611424",
     "status": "completed"
    },
    "tags": []
   },
   "outputs": [
    {
     "data": {
      "text/html": [
       "<div>\n",
       "<style scoped>\n",
       "    .dataframe tbody tr th:only-of-type {\n",
       "        vertical-align: middle;\n",
       "    }\n",
       "\n",
       "    .dataframe tbody tr th {\n",
       "        vertical-align: top;\n",
       "    }\n",
       "\n",
       "    .dataframe thead th {\n",
       "        text-align: right;\n",
       "    }\n",
       "</style>\n",
       "<table border=\"1\" class=\"dataframe\">\n",
       "  <thead>\n",
       "    <tr style=\"text-align: right;\">\n",
       "      <th></th>\n",
       "      <th>job</th>\n",
       "      <th>marital</th>\n",
       "      <th>education</th>\n",
       "      <th>default</th>\n",
       "      <th>housing</th>\n",
       "      <th>loan</th>\n",
       "      <th>contact</th>\n",
       "      <th>month</th>\n",
       "      <th>day_of_week</th>\n",
       "      <th>poutcome</th>\n",
       "      <th>y</th>\n",
       "    </tr>\n",
       "  </thead>\n",
       "  <tbody>\n",
       "    <tr>\n",
       "      <th>0</th>\n",
       "      <td>housemaid</td>\n",
       "      <td>married</td>\n",
       "      <td>basic.4y</td>\n",
       "      <td>no</td>\n",
       "      <td>no</td>\n",
       "      <td>no</td>\n",
       "      <td>telephone</td>\n",
       "      <td>may</td>\n",
       "      <td>mon</td>\n",
       "      <td>nonexistent</td>\n",
       "      <td>no</td>\n",
       "    </tr>\n",
       "    <tr>\n",
       "      <th>1</th>\n",
       "      <td>services</td>\n",
       "      <td>married</td>\n",
       "      <td>high.school</td>\n",
       "      <td>unknown</td>\n",
       "      <td>no</td>\n",
       "      <td>no</td>\n",
       "      <td>telephone</td>\n",
       "      <td>may</td>\n",
       "      <td>mon</td>\n",
       "      <td>nonexistent</td>\n",
       "      <td>no</td>\n",
       "    </tr>\n",
       "    <tr>\n",
       "      <th>2</th>\n",
       "      <td>services</td>\n",
       "      <td>married</td>\n",
       "      <td>high.school</td>\n",
       "      <td>no</td>\n",
       "      <td>yes</td>\n",
       "      <td>no</td>\n",
       "      <td>telephone</td>\n",
       "      <td>may</td>\n",
       "      <td>mon</td>\n",
       "      <td>nonexistent</td>\n",
       "      <td>no</td>\n",
       "    </tr>\n",
       "    <tr>\n",
       "      <th>3</th>\n",
       "      <td>admin.</td>\n",
       "      <td>married</td>\n",
       "      <td>basic.6y</td>\n",
       "      <td>no</td>\n",
       "      <td>no</td>\n",
       "      <td>no</td>\n",
       "      <td>telephone</td>\n",
       "      <td>may</td>\n",
       "      <td>mon</td>\n",
       "      <td>nonexistent</td>\n",
       "      <td>no</td>\n",
       "    </tr>\n",
       "    <tr>\n",
       "      <th>4</th>\n",
       "      <td>services</td>\n",
       "      <td>married</td>\n",
       "      <td>high.school</td>\n",
       "      <td>no</td>\n",
       "      <td>no</td>\n",
       "      <td>yes</td>\n",
       "      <td>telephone</td>\n",
       "      <td>may</td>\n",
       "      <td>mon</td>\n",
       "      <td>nonexistent</td>\n",
       "      <td>no</td>\n",
       "    </tr>\n",
       "  </tbody>\n",
       "</table>\n",
       "</div>"
      ],
      "text/plain": [
       "         job  marital    education  default housing loan    contact month  \\\n",
       "0  housemaid  married     basic.4y       no      no   no  telephone   may   \n",
       "1   services  married  high.school  unknown      no   no  telephone   may   \n",
       "2   services  married  high.school       no     yes   no  telephone   may   \n",
       "3     admin.  married     basic.6y       no      no   no  telephone   may   \n",
       "4   services  married  high.school       no      no  yes  telephone   may   \n",
       "\n",
       "  day_of_week     poutcome   y  \n",
       "0         mon  nonexistent  no  \n",
       "1         mon  nonexistent  no  \n",
       "2         mon  nonexistent  no  \n",
       "3         mon  nonexistent  no  \n",
       "4         mon  nonexistent  no  "
      ]
     },
     "execution_count": 8,
     "metadata": {},
     "output_type": "execute_result"
    }
   ],
   "source": [
    "categorical_features=[feature for feature in data.columns if data[feature].dtypes=='O']\n",
    "categorical_features\n",
    "data[categorical_features].head()"
   ]
  },
  {
   "cell_type": "code",
   "execution_count": 9,
   "id": "86251512",
   "metadata": {
    "execution": {
     "iopub.execute_input": "2022-05-19T19:04:47.945324Z",
     "iopub.status.busy": "2022-05-19T19:04:47.945129Z",
     "iopub.status.idle": "2022-05-19T19:04:50.603720Z",
     "shell.execute_reply": "2022-05-19T19:04:50.602700Z"
    },
    "papermill": {
     "duration": 2.766877,
     "end_time": "2022-05-19T19:04:50.606199",
     "exception": false,
     "start_time": "2022-05-19T19:04:47.839322",
     "status": "completed"
    },
    "tags": []
   },
   "outputs": [
    {
     "name": "stdout",
     "output_type": "stream",
     "text": [
      "Value Counts of the  job column is\n",
      " admin.           10422\n",
      "blue-collar       9254\n",
      "technician        6743\n",
      "services          3969\n",
      "management        2924\n",
      "retired           1720\n",
      "entrepreneur      1456\n",
      "self-employed     1421\n",
      "housemaid         1060\n",
      "unemployed        1014\n",
      "student            875\n",
      "unknown            330\n",
      "Name: job, dtype: int64 \n",
      "\n"
     ]
    },
    {
     "data": {
      "image/png": "[encoded data removed]",
      "text/plain": [
       "<Figure size 1080x576 with 1 Axes>"
      ]
     },
     "metadata": {
      "needs_background": "light"
     },
     "output_type": "display_data"
    },
    {
     "name": "stdout",
     "output_type": "stream",
     "text": [
      "Value Counts of the  marital column is\n",
      " married     24928\n",
      "single      11568\n",
      "divorced     4612\n",
      "unknown        80\n",
      "Name: marital, dtype: int64 \n",
      "\n"
     ]
    },
    {
     "data": {
      "image/png": "[encoded data removed]",
      "text/plain": [
       "<Figure size 1080x576 with 1 Axes>"
      ]
     },
     "metadata": {
      "needs_background": "light"
     },
     "output_type": "display_data"
    },
    {
     "name": "stdout",
     "output_type": "stream",
     "text": [
      "Value Counts of the  education column is\n",
      " university.degree      12168\n",
      "high.school             9515\n",
      "basic.9y                6045\n",
      "professional.course     5243\n",
      "basic.4y                4176\n",
      "basic.6y                2292\n",
      "unknown                 1731\n",
      "illiterate                18\n",
      "Name: education, dtype: int64 \n",
      "\n"
     ]
    },
    {
     "data": {
      "image/png": "[encoded data removed]",
      "text/plain": [
       "<Figure size 1080x576 with 1 Axes>"
      ]
     },
     "metadata": {
      "needs_background": "light"
     },
     "output_type": "display_data"
    },
    {
     "name": "stdout",
     "output_type": "stream",
     "text": [
      "Value Counts of the  default column is\n",
      " no         32588\n",
      "unknown     8597\n",
      "yes            3\n",
      "Name: default, dtype: int64 \n",
      "\n"
     ]
    },
    {
     "data": {
      "image/png": "[encoded data removed]",
      "text/plain": [
       "<Figure size 1080x576 with 1 Axes>"
      ]
     },
     "metadata": {
      "needs_background": "light"
     },
     "output_type": "display_data"
    },
    {
     "name": "stdout",
     "output_type": "stream",
     "text": [
      "Value Counts of the  housing column is\n",
      " yes        21576\n",
      "no         18622\n",
      "unknown      990\n",
      "Name: housing, dtype: int64 \n",
      "\n"
     ]
    },
    {
     "data": {
      "image/png": "[encoded data removed]",
      "text/plain": [
       "<Figure size 1080x576 with 1 Axes>"
      ]
     },
     "metadata": {
      "needs_background": "light"
     },
     "output_type": "display_data"
    },
    {
     "name": "stdout",
     "output_type": "stream",
     "text": [
      "Value Counts of the  loan column is\n",
      " no         33950\n",
      "yes         6248\n",
      "unknown      990\n",
      "Name: loan, dtype: int64 \n",
      "\n"
     ]
    },
    {
     "data": {
      "image/png": "[encoded data removed]",
      "text/plain": [
       "<Figure size 1080x576 with 1 Axes>"
      ]
     },
     "metadata": {
      "needs_background": "light"
     },
     "output_type": "display_data"
    },
    {
     "name": "stdout",
     "output_type": "stream",
     "text": [
      "Value Counts of the  contact column is\n",
      " cellular     26144\n",
      "telephone    15044\n",
      "Name: contact, dtype: int64 \n",
      "\n"
     ]
    },
    {
     "data": {
      "image/png": "[encoded data removed]",
      "text/plain": [
       "<Figure size 1080x576 with 1 Axes>"
      ]
     },
     "metadata": {
      "needs_background": "light"
     },
     "output_type": "display_data"
    },
    {
     "name": "stdout",
     "output_type": "stream",
     "text": [
      "Value Counts of the  month column is\n",
      " may    13769\n",
      "jul     7174\n",
      "aug     6178\n",
      "jun     5318\n",
      "nov     4101\n",
      "apr     2632\n",
      "oct      718\n",
      "sep      570\n",
      "mar      546\n",
      "dec      182\n",
      "Name: month, dtype: int64 \n",
      "\n"
     ]
    },
    {
     "data": {
      "image/png": "[encoded data removed]",
      "text/plain": [
       "<Figure size 1080x576 with 1 Axes>"
      ]
     },
     "metadata": {
      "needs_background": "light"
     },
     "output_type": "display_data"
    },
    {
     "name": "stdout",
     "output_type": "stream",
     "text": [
      "Value Counts of the  day_of_week column is\n",
      " thu    8623\n",
      "mon    8514\n",
      "wed    8134\n",
      "tue    8090\n",
      "fri    7827\n",
      "Name: day_of_week, dtype: int64 \n",
      "\n"
     ]
    },
    {
     "data": {
      "image/png": "[encoded data removed]",
      "text/plain": [
       "<Figure size 1080x576 with 1 Axes>"
      ]
     },
     "metadata": {
      "needs_background": "light"
     },
     "output_type": "display_data"
    },
    {
     "name": "stdout",
     "output_type": "stream",
     "text": [
      "Value Counts of the  poutcome column is\n",
      " nonexistent    35563\n",
      "failure         4252\n",
      "success         1373\n",
      "Name: poutcome, dtype: int64 \n",
      "\n"
     ]
    },
    {
     "data": {
      "image/png": "[encoded data removed]",
      "text/plain": [
       "<Figure size 1080x576 with 1 Axes>"
      ]
     },
     "metadata": {
      "needs_background": "light"
     },
     "output_type": "display_data"
    },
    {
     "name": "stdout",
     "output_type": "stream",
     "text": [
      "Value Counts of the  y column is\n",
      " no     36548\n",
      "yes     4640\n",
      "Name: y, dtype: int64 \n",
      "\n"
     ]
    },
    {
     "data": {
      "image/png": "[encoded data removed]",
      "text/plain": [
       "<Figure size 1080x576 with 1 Axes>"
      ]
     },
     "metadata": {
      "needs_background": "light"
     },
     "output_type": "display_data"
    }
   ],
   "source": [
    "for i in categorical_features:\n",
    "    print('Value Counts of the ',i,'column is\\n',data[i].value_counts(),'\\n')\n",
    "    sns.countplot(data[i])\n",
    "    plt.title(i)\n",
    "    plt.show()"
   ]
  },
  {
   "cell_type": "code",
   "execution_count": 10,
   "id": "24c2adef",
   "metadata": {
    "execution": {
     "iopub.execute_input": "2022-05-19T19:04:50.851751Z",
     "iopub.status.busy": "2022-05-19T19:04:50.851442Z",
     "iopub.status.idle": "2022-05-19T19:04:51.209717Z",
     "shell.execute_reply": "2022-05-19T19:04:51.208684Z"
    },
    "papermill": {
     "duration": 0.48282,
     "end_time": "2022-05-19T19:04:51.211960",
     "exception": false,
     "start_time": "2022-05-19T19:04:50.729140",
     "status": "completed"
    },
    "tags": []
   },
   "outputs": [
    {
     "data": {
      "text/plain": [
       "<AxesSubplot:xlabel='job', ylabel='count'>"
      ]
     },
     "execution_count": 10,
     "metadata": {},
     "output_type": "execute_result"
    },
    {
     "data": {
      "image/png": "[encoded data removed]",
      "text/plain": [
       "<Figure size 1440x720 with 1 Axes>"
      ]
     },
     "metadata": {
      "needs_background": "light"
     },
     "output_type": "display_data"
    }
   ],
   "source": [
    "fig=plt.figure(figsize=(20,10))\n",
    "sns.countplot(x='job',hue='y',data=data)"
   ]
  },
  {
   "cell_type": "code",
   "execution_count": 11,
   "id": "8676278b",
   "metadata": {
    "execution": {
     "iopub.execute_input": "2022-05-19T19:04:51.459748Z",
     "iopub.status.busy": "2022-05-19T19:04:51.459392Z",
     "iopub.status.idle": "2022-05-19T19:04:52.125752Z",
     "shell.execute_reply": "2022-05-19T19:04:52.124709Z"
    },
    "papermill": {
     "duration": 0.793031,
     "end_time": "2022-05-19T19:04:52.127620",
     "exception": false,
     "start_time": "2022-05-19T19:04:51.334589",
     "status": "completed"
    },
    "tags": []
   },
   "outputs": [
    {
     "data": {
      "image/png": "[encoded data removed]",
      "text/plain": [
       "<Figure size 1080x1080 with 2 Axes>"
      ]
     },
     "metadata": {
      "needs_background": "light"
     },
     "output_type": "display_data"
    }
   ],
   "source": [
    "f,ax=plt.subplots(figsize=(15,15))\n",
    "sns.heatmap(data.corr(),annot=True,linewidths=0.5,linecolor=\"black\",fmt=\".1f\",ax=ax)\n",
    "plt.show()"
   ]
  },
  {
   "cell_type": "markdown",
   "id": "ab052e32",
   "metadata": {
    "execution": {
     "iopub.execute_input": "2022-05-19T19:04:52.297061Z",
     "iopub.status.busy": "2022-05-19T19:04:52.295331Z",
     "iopub.status.idle": "2022-05-19T19:04:52.302507Z",
     "shell.execute_reply": "2022-05-19T19:04:52.301152Z"
    },
    "papermill": {
     "duration": 0.092682,
     "end_time": "2022-05-19T19:04:52.304989",
     "exception": false,
     "start_time": "2022-05-19T19:04:52.212307",
     "status": "completed"
    },
    "tags": []
   },
   "source": [
    "# From The Analysis of Categorical Colums it is revealed that :\n",
    "1.Job: Highest Number of application are from admin type of job.\n",
    "2.Marital: maximum number of client who approached were married.\n",
    "3.Education: Client with university degree and high school were approached more as compare to other and they have higher success rate as well.\n",
    "4.Default: Default variable has no impact on the client subscribing for term deposit. So we will drop this feature.\n",
    "5.Housing: Housing loan does not have much effect on the number of term deposit purchased.\n",
    "6.Loan: We approach around 84% of client with not having personal loan.\n",
    "7.Contact: Around 64% calls are from cellular.\n",
    "8.Month: Around 33% were approached in may and in January, Febuary we don't have data or no one was approached. Success rate was almost same in june, july and August.\n",
    "9.day_of_week: We have 5 days collected values. There is no significant different in the number of client approached and number of people subscribed.\n",
    "10.poutcome: If a client took the term deposit last time than there is higher chances of that client subscribing to it again."
   ]
  },
  {
   "cell_type": "markdown",
   "id": "8e0d5403",
   "metadata": {
    "papermill": {
     "duration": 0.082177,
     "end_time": "2022-05-19T19:04:52.469121",
     "exception": false,
     "start_time": "2022-05-19T19:04:52.386944",
     "status": "completed"
    },
    "tags": []
   },
   "source": [
    "### 2. Perform the following Exploratory Data Analysis tasks:"
   ]
  },
  {
   "cell_type": "markdown",
   "id": "4ab0db95",
   "metadata": {
    "papermill": {
     "duration": 0.082006,
     "end_time": "2022-05-19T19:04:53.195117",
     "exception": false,
     "start_time": "2022-05-19T19:04:53.113111",
     "status": "completed"
    },
    "tags": []
   },
   "source": [
    "#### Treating the Column \"pdays\" by Binning"
   ]
  },
  {
   "cell_type": "code",
   "execution_count": 12,
   "id": "c1592058",
   "metadata": {
    "execution": {
     "iopub.execute_input": "2022-05-19T19:04:53.362367Z",
     "iopub.status.busy": "2022-05-19T19:04:53.362109Z",
     "iopub.status.idle": "2022-05-19T19:04:53.371900Z",
     "shell.execute_reply": "2022-05-19T19:04:53.370069Z"
    },
    "papermill": {
     "duration": 0.097101,
     "end_time": "2022-05-19T19:04:53.374696",
     "exception": false,
     "start_time": "2022-05-19T19:04:53.277595",
     "status": "completed"
    },
    "tags": []
   },
   "outputs": [
    {
     "data": {
      "text/plain": [
       "999    39673\n",
       "3        439\n",
       "6        412\n",
       "4        118\n",
       "9         64\n",
       "2         61\n",
       "7         60\n",
       "12        58\n",
       "10        52\n",
       "5         46\n",
       "13        36\n",
       "11        28\n",
       "1         26\n",
       "15        24\n",
       "14        20\n",
       "8         18\n",
       "0         15\n",
       "16        11\n",
       "17         8\n",
       "18         7\n",
       "22         3\n",
       "19         3\n",
       "21         2\n",
       "25         1\n",
       "26         1\n",
       "27         1\n",
       "20         1\n",
       "Name: pdays, dtype: int64"
      ]
     },
     "execution_count": 12,
     "metadata": {},
     "output_type": "execute_result"
    }
   ],
   "source": [
    "data.pdays.value_counts()"
   ]
  },
  {
   "cell_type": "code",
   "execution_count": 13,
   "id": "59e48601",
   "metadata": {
    "execution": {
     "iopub.execute_input": "2022-05-19T19:04:53.630821Z",
     "iopub.status.busy": "2022-05-19T19:04:53.630519Z",
     "iopub.status.idle": "2022-05-19T19:04:53.637007Z",
     "shell.execute_reply": "2022-05-19T19:04:53.635992Z"
    },
    "papermill": {
     "duration": 0.137386,
     "end_time": "2022-05-19T19:04:53.639402",
     "exception": false,
     "start_time": "2022-05-19T19:04:53.502016",
     "status": "completed"
    },
    "tags": []
   },
   "outputs": [],
   "source": [
    "data['pdays']=data.pdays.replace(999,0)"
   ]
  },
  {
   "cell_type": "code",
   "execution_count": 14,
   "id": "ac5cca66",
   "metadata": {
    "execution": {
     "iopub.execute_input": "2022-05-19T19:04:53.895277Z",
     "iopub.status.busy": "2022-05-19T19:04:53.894861Z",
     "iopub.status.idle": "2022-05-19T19:04:53.901924Z",
     "shell.execute_reply": "2022-05-19T19:04:53.900882Z"
    },
    "papermill": {
     "duration": 0.137153,
     "end_time": "2022-05-19T19:04:53.904019",
     "exception": false,
     "start_time": "2022-05-19T19:04:53.766866",
     "status": "completed"
    },
    "tags": []
   },
   "outputs": [
    {
     "data": {
      "text/plain": [
       "0     39688\n",
       "3       439\n",
       "6       412\n",
       "4       118\n",
       "9        64\n",
       "2        61\n",
       "7        60\n",
       "12       58\n",
       "10       52\n",
       "5        46\n",
       "13       36\n",
       "11       28\n",
       "1        26\n",
       "15       24\n",
       "14       20\n",
       "8        18\n",
       "16       11\n",
       "17        8\n",
       "18        7\n",
       "22        3\n",
       "19        3\n",
       "21        2\n",
       "25        1\n",
       "26        1\n",
       "27        1\n",
       "20        1\n",
       "Name: pdays, dtype: int64"
      ]
     },
     "execution_count": 14,
     "metadata": {},
     "output_type": "execute_result"
    }
   ],
   "source": [
    "data['pdays'].value_counts()"
   ]
  },
  {
   "cell_type": "code",
   "execution_count": 15,
   "id": "7ec25bbf",
   "metadata": {
    "execution": {
     "iopub.execute_input": "2022-05-19T19:04:54.160118Z",
     "iopub.status.busy": "2022-05-19T19:04:54.159377Z",
     "iopub.status.idle": "2022-05-19T19:04:54.167208Z",
     "shell.execute_reply": "2022-05-19T19:04:54.166077Z"
    },
    "papermill": {
     "duration": 0.137972,
     "end_time": "2022-05-19T19:04:54.169788",
     "exception": false,
     "start_time": "2022-05-19T19:04:54.031816",
     "status": "completed"
    },
    "tags": []
   },
   "outputs": [],
   "source": [
    "data['pdays']=pd.cut(data.pdays,bins=[-1,1,5,28],\n",
    "                      labels=['Low Calls','Moderate','High'])"
   ]
  },
  {
   "cell_type": "code",
   "execution_count": 16,
   "id": "2148cc0d",
   "metadata": {
    "execution": {
     "iopub.execute_input": "2022-05-19T19:04:54.428550Z",
     "iopub.status.busy": "2022-05-19T19:04:54.428269Z",
     "iopub.status.idle": "2022-05-19T19:04:54.436679Z",
     "shell.execute_reply": "2022-05-19T19:04:54.435581Z"
    },
    "papermill": {
     "duration": 0.141403,
     "end_time": "2022-05-19T19:04:54.438983",
     "exception": false,
     "start_time": "2022-05-19T19:04:54.297580",
     "status": "completed"
    },
    "tags": []
   },
   "outputs": [
    {
     "data": {
      "text/plain": [
       "Low Calls    39714\n",
       "High           810\n",
       "Moderate       664\n",
       "Name: pdays, dtype: int64"
      ]
     },
     "execution_count": 16,
     "metadata": {},
     "output_type": "execute_result"
    }
   ],
   "source": [
    "data['pdays'].value_counts()"
   ]
  },
  {
   "cell_type": "code",
   "execution_count": 17,
   "id": "1d295fe4",
   "metadata": {
    "execution": {
     "iopub.execute_input": "2022-05-19T19:04:55.760222Z",
     "iopub.status.busy": "2022-05-19T19:04:55.759990Z",
     "iopub.status.idle": "2022-05-19T19:04:55.771044Z",
     "shell.execute_reply": "2022-05-19T19:04:55.769997Z"
    },
    "papermill": {
     "duration": 0.142611,
     "end_time": "2022-05-19T19:04:55.773376",
     "exception": false,
     "start_time": "2022-05-19T19:04:55.630765",
     "status": "completed"
    },
    "tags": []
   },
   "outputs": [
    {
     "data": {
      "text/plain": [
       "Primary                12513\n",
       "university.degree      12168\n",
       "high.school             9515\n",
       "professional.course     5243\n",
       "unknown                 1731\n",
       "illiterate                18\n",
       "Name: education, dtype: int64"
      ]
     },
     "execution_count": 17,
     "metadata": {},
     "output_type": "execute_result"
    }
   ],
   "source": [
    "#  including 'basic.9y','basic.6y','basic.4y' as 'Primary'\n",
    "# replacing all basics to primary \n",
    "data.education=data.education.str.replace(r'basic\\.[0-9]y+','Primary',regex=True)\n",
    "data.education.value_counts()"
   ]
  },
  {
   "cell_type": "code",
   "execution_count": 18,
   "id": "b7a766d2",
   "metadata": {
    "papermill": {
     "duration": 0.084098,
     "end_time": "2022-05-19T19:04:55.943978",
     "exception": false,
     "start_time": "2022-05-19T19:04:55.859880",
     "status": "completed"
    },
    "tags": []
   },
   "outputs": [
    {
     "data": {
      "text/plain": [
       "technician      15997\n",
       "admin.          10422\n",
       "services         5029\n",
       "management       2924\n",
       "entrepreneur     2877\n",
       "unemployed       1889\n",
       "retired          1720\n",
       "unknown           330\n",
       "Name: job, dtype: int64"
      ]
     },
     "execution_count": 18,
     "metadata": {},
     "output_type": "execute_result"
    }
   ],
   "source": [
    "# replacing blue collar with technician, housemaid with services , self_employed  with entrepreneur , student as unemplyed\n",
    "data.job.replace({'blue-collar':'technician','housemaid':'services','self-employed':'entrepreneur','student':'unemployed'},inplace=True)\n",
    "data.job.value_counts()"
   ]
  },
  {
   "cell_type": "markdown",
   "id": "3ae8df7f",
   "metadata": {},
   "source": [
    "# Dropping Duplicates"
   ]
  },
  {
   "cell_type": "code",
   "execution_count": 19,
   "id": "fadabc72",
   "metadata": {},
   "outputs": [],
   "source": [
    "data = data.drop_duplicates(keep='first')"
   ]
  },
  {
   "cell_type": "code",
   "execution_count": 20,
   "id": "48c2a313",
   "metadata": {},
   "outputs": [],
   "source": [
    "data.reset_index(inplace=True)"
   ]
  },
  {
   "cell_type": "code",
   "execution_count": 21,
   "id": "8e5f9990",
   "metadata": {},
   "outputs": [
    {
     "data": {
      "text/plain": [
       "(41173, 22)"
      ]
     },
     "execution_count": 21,
     "metadata": {},
     "output_type": "execute_result"
    }
   ],
   "source": [
    "data.shape"
   ]
  },
  {
   "cell_type": "markdown",
   "id": "5b3e94f1",
   "metadata": {
    "papermill": {
     "duration": 0.085626,
     "end_time": "2022-05-19T19:04:56.675061",
     "exception": false,
     "start_time": "2022-05-19T19:04:56.589435",
     "status": "completed"
    },
    "tags": []
   },
   "source": [
    "## Label Encoding wherever required"
   ]
  },
  {
   "cell_type": "code",
   "execution_count": 22,
   "id": "46f66069",
   "metadata": {
    "execution": {
     "iopub.execute_input": "2022-05-19T19:04:56.871119Z",
     "iopub.status.busy": "2022-05-19T19:04:56.870818Z",
     "iopub.status.idle": "2022-05-19T19:04:56.914663Z",
     "shell.execute_reply": "2022-05-19T19:04:56.913734Z"
    },
    "papermill": {
     "duration": 0.155286,
     "end_time": "2022-05-19T19:04:56.916523",
     "exception": false,
     "start_time": "2022-05-19T19:04:56.761237",
     "status": "completed"
    },
    "tags": []
   },
   "outputs": [],
   "source": [
    "data['education']=data['education'].replace(to_replace=['illiterate','unknown','Primary','high.school','university.degree','professional.course'],\n",
    "                                                                value=[0,1,2,3,4,5])"
   ]
  },
  {
   "cell_type": "code",
   "execution_count": 23,
   "id": "ecf8f96b",
   "metadata": {
    "execution": {
     "iopub.execute_input": "2022-05-19T19:04:57.090867Z",
     "iopub.status.busy": "2022-05-19T19:04:57.090476Z",
     "iopub.status.idle": "2022-05-19T19:04:57.098137Z",
     "shell.execute_reply": "2022-05-19T19:04:57.097156Z"
    },
    "papermill": {
     "duration": 0.097523,
     "end_time": "2022-05-19T19:04:57.099838",
     "exception": false,
     "start_time": "2022-05-19T19:04:57.002315",
     "status": "completed"
    },
    "tags": []
   },
   "outputs": [
    {
     "data": {
      "text/plain": [
       "2    12509\n",
       "4    12164\n",
       "3     9512\n",
       "5     5240\n",
       "1     1730\n",
       "0       18\n",
       "Name: education, dtype: int64"
      ]
     },
     "execution_count": 23,
     "metadata": {},
     "output_type": "execute_result"
    }
   ],
   "source": [
    "data['education'].value_counts()"
   ]
  },
  {
   "cell_type": "code",
   "execution_count": 24,
   "id": "dd87cf38",
   "metadata": {
    "execution": {
     "iopub.execute_input": "2022-05-19T19:04:57.281777Z",
     "iopub.status.busy": "2022-05-19T19:04:57.281355Z",
     "iopub.status.idle": "2022-05-19T19:04:57.293443Z",
     "shell.execute_reply": "2022-05-19T19:04:57.292750Z"
    },
    "papermill": {
     "duration": 0.108874,
     "end_time": "2022-05-19T19:04:57.295451",
     "exception": false,
     "start_time": "2022-05-19T19:04:57.186577",
     "status": "completed"
    },
    "tags": []
   },
   "outputs": [
    {
     "data": {
      "text/plain": [
       "may    13764\n",
       "jul     7169\n",
       "aug     6176\n",
       "jun     5318\n",
       "nov     4100\n",
       "apr     2631\n",
       "oct      717\n",
       "sep      570\n",
       "mar      546\n",
       "dec      182\n",
       "Name: month, dtype: int64"
      ]
     },
     "execution_count": 24,
     "metadata": {},
     "output_type": "execute_result"
    }
   ],
   "source": [
    "data['month'].value_counts()"
   ]
  },
  {
   "cell_type": "code",
   "execution_count": 25,
   "id": "3ed9a28c",
   "metadata": {
    "execution": {
     "iopub.execute_input": "2022-05-19T19:04:57.560095Z",
     "iopub.status.busy": "2022-05-19T19:04:57.559612Z",
     "iopub.status.idle": "2022-05-19T19:04:57.613080Z",
     "shell.execute_reply": "2022-05-19T19:04:57.612476Z"
    },
    "papermill": {
     "duration": 0.189064,
     "end_time": "2022-05-19T19:04:57.615690",
     "exception": false,
     "start_time": "2022-05-19T19:04:57.426626",
     "status": "completed"
    },
    "tags": []
   },
   "outputs": [],
   "source": [
    "# label encoding accounding to Months\n",
    "\n",
    "data['month']=data['month'].replace(to_replace=['mar','apr','may','jun','jul','aug','sep','oct','nov','dec'],\n",
    "                                                                value=[3,4,5,6,7,8,9,10,11,12])"
   ]
  },
  {
   "cell_type": "code",
   "execution_count": 26,
   "id": "04bbc0d1",
   "metadata": {
    "execution": {
     "iopub.execute_input": "2022-05-19T19:04:57.879216Z",
     "iopub.status.busy": "2022-05-19T19:04:57.877625Z",
     "iopub.status.idle": "2022-05-19T19:04:57.891694Z",
     "shell.execute_reply": "2022-05-19T19:04:57.890912Z"
    },
    "papermill": {
     "duration": 0.147529,
     "end_time": "2022-05-19T19:04:57.893653",
     "exception": false,
     "start_time": "2022-05-19T19:04:57.746124",
     "status": "completed"
    },
    "tags": []
   },
   "outputs": [
    {
     "data": {
      "text/plain": [
       "thu    8618\n",
       "mon    8512\n",
       "wed    8133\n",
       "tue    8085\n",
       "fri    7825\n",
       "Name: day_of_week, dtype: int64"
      ]
     },
     "execution_count": 26,
     "metadata": {},
     "output_type": "execute_result"
    }
   ],
   "source": [
    "data['day_of_week'].value_counts()"
   ]
  },
  {
   "cell_type": "code",
   "execution_count": 27,
   "id": "70313f90",
   "metadata": {
    "execution": {
     "iopub.execute_input": "2022-05-19T19:04:58.157682Z",
     "iopub.status.busy": "2022-05-19T19:04:58.157385Z",
     "iopub.status.idle": "2022-05-19T19:04:58.197744Z",
     "shell.execute_reply": "2022-05-19T19:04:58.196348Z"
    },
    "papermill": {
     "duration": 0.175862,
     "end_time": "2022-05-19T19:04:58.200271",
     "exception": false,
     "start_time": "2022-05-19T19:04:58.024409",
     "status": "completed"
    },
    "tags": []
   },
   "outputs": [],
   "source": [
    "data['day_of_week']=data['day_of_week'].replace(to_replace=['mon','tue','wed','thu','fri'],\n",
    "                                                                value=[1,2,3,4,5])"
   ]
  },
  {
   "cell_type": "code",
   "execution_count": 28,
   "id": "eedd382d",
   "metadata": {
    "execution": {
     "iopub.execute_input": "2022-05-19T19:04:58.462759Z",
     "iopub.status.busy": "2022-05-19T19:04:58.462390Z",
     "iopub.status.idle": "2022-05-19T19:04:58.471100Z",
     "shell.execute_reply": "2022-05-19T19:04:58.470370Z"
    },
    "papermill": {
     "duration": 0.141815,
     "end_time": "2022-05-19T19:04:58.472943",
     "exception": false,
     "start_time": "2022-05-19T19:04:58.331128",
     "status": "completed"
    },
    "tags": []
   },
   "outputs": [
    {
     "data": {
      "text/plain": [
       "4    8618\n",
       "1    8512\n",
       "3    8133\n",
       "2    8085\n",
       "5    7825\n",
       "Name: day_of_week, dtype: int64"
      ]
     },
     "execution_count": 28,
     "metadata": {},
     "output_type": "execute_result"
    }
   ],
   "source": [
    "data['day_of_week'].value_counts()"
   ]
  },
  {
   "cell_type": "code",
   "execution_count": 29,
   "id": "e27377d6",
   "metadata": {
    "execution": {
     "iopub.execute_input": "2022-05-19T19:04:58.738877Z",
     "iopub.status.busy": "2022-05-19T19:04:58.738621Z",
     "iopub.status.idle": "2022-05-19T19:04:58.748581Z",
     "shell.execute_reply": "2022-05-19T19:04:58.747673Z"
    },
    "papermill": {
     "duration": 0.147303,
     "end_time": "2022-05-19T19:04:58.751130",
     "exception": false,
     "start_time": "2022-05-19T19:04:58.603827",
     "status": "completed"
    },
    "tags": []
   },
   "outputs": [
    {
     "data": {
      "text/plain": [
       "nonexistent    35549\n",
       "failure         4251\n",
       "success         1373\n",
       "Name: poutcome, dtype: int64"
      ]
     },
     "execution_count": 29,
     "metadata": {},
     "output_type": "execute_result"
    }
   ],
   "source": [
    "data['poutcome'].value_counts()"
   ]
  },
  {
   "cell_type": "code",
   "execution_count": 30,
   "id": "928d8021",
   "metadata": {
    "execution": {
     "iopub.execute_input": "2022-05-19T19:04:59.017011Z",
     "iopub.status.busy": "2022-05-19T19:04:59.016759Z",
     "iopub.status.idle": "2022-05-19T19:04:59.036693Z",
     "shell.execute_reply": "2022-05-19T19:04:59.035868Z"
    },
    "papermill": {
     "duration": 0.155461,
     "end_time": "2022-05-19T19:04:59.039160",
     "exception": false,
     "start_time": "2022-05-19T19:04:58.883699",
     "status": "completed"
    },
    "tags": []
   },
   "outputs": [],
   "source": [
    "data['poutcome']=data['poutcome'].replace(to_replace=['nonexistent','failure','success'],value=[0,1,2])"
   ]
  },
  {
   "cell_type": "code",
   "execution_count": 31,
   "id": "e7655196",
   "metadata": {
    "execution": {
     "iopub.execute_input": "2022-05-19T19:04:59.304227Z",
     "iopub.status.busy": "2022-05-19T19:04:59.303942Z",
     "iopub.status.idle": "2022-05-19T19:04:59.310579Z",
     "shell.execute_reply": "2022-05-19T19:04:59.309729Z"
    },
    "papermill": {
     "duration": 0.141772,
     "end_time": "2022-05-19T19:04:59.312477",
     "exception": false,
     "start_time": "2022-05-19T19:04:59.170705",
     "status": "completed"
    },
    "tags": []
   },
   "outputs": [
    {
     "data": {
      "text/plain": [
       "0    35549\n",
       "1     4251\n",
       "2     1373\n",
       "Name: poutcome, dtype: int64"
      ]
     },
     "execution_count": 31,
     "metadata": {},
     "output_type": "execute_result"
    }
   ],
   "source": [
    "data['poutcome'].value_counts()"
   ]
  },
  {
   "cell_type": "code",
   "execution_count": 32,
   "id": "b9594e52",
   "metadata": {
    "execution": {
     "iopub.execute_input": "2022-05-19T19:04:59.578485Z",
     "iopub.status.busy": "2022-05-19T19:04:59.578201Z",
     "iopub.status.idle": "2022-05-19T19:04:59.601705Z",
     "shell.execute_reply": "2022-05-19T19:04:59.600874Z"
    },
    "papermill": {
     "duration": 0.159275,
     "end_time": "2022-05-19T19:04:59.604179",
     "exception": false,
     "start_time": "2022-05-19T19:04:59.444904",
     "status": "completed"
    },
    "tags": []
   },
   "outputs": [
    {
     "data": {
      "text/html": [
       "<div>\n",
       "<style scoped>\n",
       "    .dataframe tbody tr th:only-of-type {\n",
       "        vertical-align: middle;\n",
       "    }\n",
       "\n",
       "    .dataframe tbody tr th {\n",
       "        vertical-align: top;\n",
       "    }\n",
       "\n",
       "    .dataframe thead th {\n",
       "        text-align: right;\n",
       "    }\n",
       "</style>\n",
       "<table border=\"1\" class=\"dataframe\">\n",
       "  <thead>\n",
       "    <tr style=\"text-align: right;\">\n",
       "      <th></th>\n",
       "      <th>index</th>\n",
       "      <th>age</th>\n",
       "      <th>job</th>\n",
       "      <th>marital</th>\n",
       "      <th>education</th>\n",
       "      <th>default</th>\n",
       "      <th>housing</th>\n",
       "      <th>loan</th>\n",
       "      <th>contact</th>\n",
       "      <th>month</th>\n",
       "      <th>day_of_week</th>\n",
       "      <th>duration</th>\n",
       "      <th>campaign</th>\n",
       "      <th>pdays</th>\n",
       "      <th>previous</th>\n",
       "      <th>poutcome</th>\n",
       "      <th>emp.var.rate</th>\n",
       "      <th>cons.price.idx</th>\n",
       "      <th>cons.conf.idx</th>\n",
       "      <th>euribor3m</th>\n",
       "      <th>nr.employed</th>\n",
       "      <th>y</th>\n",
       "    </tr>\n",
       "  </thead>\n",
       "  <tbody>\n",
       "    <tr>\n",
       "      <th>0</th>\n",
       "      <td>0</td>\n",
       "      <td>56</td>\n",
       "      <td>services</td>\n",
       "      <td>married</td>\n",
       "      <td>2</td>\n",
       "      <td>no</td>\n",
       "      <td>no</td>\n",
       "      <td>no</td>\n",
       "      <td>telephone</td>\n",
       "      <td>5</td>\n",
       "      <td>1</td>\n",
       "      <td>261</td>\n",
       "      <td>1</td>\n",
       "      <td>Low Calls</td>\n",
       "      <td>0</td>\n",
       "      <td>0</td>\n",
       "      <td>1.1</td>\n",
       "      <td>93.994</td>\n",
       "      <td>-36.4</td>\n",
       "      <td>4.857</td>\n",
       "      <td>5191.0</td>\n",
       "      <td>0</td>\n",
       "    </tr>\n",
       "    <tr>\n",
       "      <th>1</th>\n",
       "      <td>1</td>\n",
       "      <td>57</td>\n",
       "      <td>services</td>\n",
       "      <td>married</td>\n",
       "      <td>3</td>\n",
       "      <td>unknown</td>\n",
       "      <td>no</td>\n",
       "      <td>no</td>\n",
       "      <td>telephone</td>\n",
       "      <td>5</td>\n",
       "      <td>1</td>\n",
       "      <td>149</td>\n",
       "      <td>1</td>\n",
       "      <td>Low Calls</td>\n",
       "      <td>0</td>\n",
       "      <td>0</td>\n",
       "      <td>1.1</td>\n",
       "      <td>93.994</td>\n",
       "      <td>-36.4</td>\n",
       "      <td>4.857</td>\n",
       "      <td>5191.0</td>\n",
       "      <td>0</td>\n",
       "    </tr>\n",
       "    <tr>\n",
       "      <th>2</th>\n",
       "      <td>2</td>\n",
       "      <td>37</td>\n",
       "      <td>services</td>\n",
       "      <td>married</td>\n",
       "      <td>3</td>\n",
       "      <td>no</td>\n",
       "      <td>yes</td>\n",
       "      <td>no</td>\n",
       "      <td>telephone</td>\n",
       "      <td>5</td>\n",
       "      <td>1</td>\n",
       "      <td>226</td>\n",
       "      <td>1</td>\n",
       "      <td>Low Calls</td>\n",
       "      <td>0</td>\n",
       "      <td>0</td>\n",
       "      <td>1.1</td>\n",
       "      <td>93.994</td>\n",
       "      <td>-36.4</td>\n",
       "      <td>4.857</td>\n",
       "      <td>5191.0</td>\n",
       "      <td>0</td>\n",
       "    </tr>\n",
       "    <tr>\n",
       "      <th>3</th>\n",
       "      <td>3</td>\n",
       "      <td>40</td>\n",
       "      <td>admin.</td>\n",
       "      <td>married</td>\n",
       "      <td>2</td>\n",
       "      <td>no</td>\n",
       "      <td>no</td>\n",
       "      <td>no</td>\n",
       "      <td>telephone</td>\n",
       "      <td>5</td>\n",
       "      <td>1</td>\n",
       "      <td>151</td>\n",
       "      <td>1</td>\n",
       "      <td>Low Calls</td>\n",
       "      <td>0</td>\n",
       "      <td>0</td>\n",
       "      <td>1.1</td>\n",
       "      <td>93.994</td>\n",
       "      <td>-36.4</td>\n",
       "      <td>4.857</td>\n",
       "      <td>5191.0</td>\n",
       "      <td>0</td>\n",
       "    </tr>\n",
       "    <tr>\n",
       "      <th>4</th>\n",
       "      <td>4</td>\n",
       "      <td>56</td>\n",
       "      <td>services</td>\n",
       "      <td>married</td>\n",
       "      <td>3</td>\n",
       "      <td>no</td>\n",
       "      <td>no</td>\n",
       "      <td>yes</td>\n",
       "      <td>telephone</td>\n",
       "      <td>5</td>\n",
       "      <td>1</td>\n",
       "      <td>307</td>\n",
       "      <td>1</td>\n",
       "      <td>Low Calls</td>\n",
       "      <td>0</td>\n",
       "      <td>0</td>\n",
       "      <td>1.1</td>\n",
       "      <td>93.994</td>\n",
       "      <td>-36.4</td>\n",
       "      <td>4.857</td>\n",
       "      <td>5191.0</td>\n",
       "      <td>0</td>\n",
       "    </tr>\n",
       "  </tbody>\n",
       "</table>\n",
       "</div>"
      ],
      "text/plain": [
       "   index  age       job  marital  education  default housing loan    contact  \\\n",
       "0      0   56  services  married          2       no      no   no  telephone   \n",
       "1      1   57  services  married          3  unknown      no   no  telephone   \n",
       "2      2   37  services  married          3       no     yes   no  telephone   \n",
       "3      3   40    admin.  married          2       no      no   no  telephone   \n",
       "4      4   56  services  married          3       no      no  yes  telephone   \n",
       "\n",
       "   month  day_of_week  duration  campaign      pdays  previous  poutcome  \\\n",
       "0      5            1       261         1  Low Calls         0         0   \n",
       "1      5            1       149         1  Low Calls         0         0   \n",
       "2      5            1       226         1  Low Calls         0         0   \n",
       "3      5            1       151         1  Low Calls         0         0   \n",
       "4      5            1       307         1  Low Calls         0         0   \n",
       "\n",
       "   emp.var.rate  cons.price.idx  cons.conf.idx  euribor3m  nr.employed  y  \n",
       "0           1.1          93.994          -36.4      4.857       5191.0  0  \n",
       "1           1.1          93.994          -36.4      4.857       5191.0  0  \n",
       "2           1.1          93.994          -36.4      4.857       5191.0  0  \n",
       "3           1.1          93.994          -36.4      4.857       5191.0  0  \n",
       "4           1.1          93.994          -36.4      4.857       5191.0  0  "
      ]
     },
     "execution_count": 32,
     "metadata": {},
     "output_type": "execute_result"
    }
   ],
   "source": [
    "\n",
    "# Label Encoding for target column as we do not want 2 column\n",
    "#replace 'no' with 0\n",
    "data['y']=data['y'].replace('no',0)\n",
    "\n",
    "#replace 'yes'with 1\n",
    "data['y']=data['y'].replace('yes',1)\n",
    "data.head()"
   ]
  },
  {
   "cell_type": "code",
   "execution_count": 33,
   "id": "307a5cec",
   "metadata": {},
   "outputs": [
    {
     "data": {
      "text/plain": [
       "0    36534\n",
       "1     4639\n",
       "Name: y, dtype: int64"
      ]
     },
     "execution_count": 33,
     "metadata": {},
     "output_type": "execute_result"
    }
   ],
   "source": [
    "data.y.value_counts()"
   ]
  },
  {
   "cell_type": "markdown",
   "id": "cc8195e1",
   "metadata": {
    "papermill": {
     "duration": 0.130893,
     "end_time": "2022-05-19T19:05:00.155228",
     "exception": false,
     "start_time": "2022-05-19T19:05:00.024335",
     "status": "completed"
    },
    "tags": []
   },
   "source": [
    "#### Applying One hot encoder for the Remaining Categorical data"
   ]
  },
  {
   "cell_type": "code",
   "execution_count": 34,
   "id": "b6f824e3",
   "metadata": {
    "execution": {
     "iopub.execute_input": "2022-05-19T19:05:00.437134Z",
     "iopub.status.busy": "2022-05-19T19:05:00.436691Z",
     "iopub.status.idle": "2022-05-19T19:05:00.471334Z",
     "shell.execute_reply": "2022-05-19T19:05:00.470818Z"
    },
    "papermill": {
     "duration": 0.185633,
     "end_time": "2022-05-19T19:05:00.473606",
     "exception": false,
     "start_time": "2022-05-19T19:05:00.287973",
     "status": "completed"
    },
    "tags": []
   },
   "outputs": [],
   "source": [
    "# one hot encoding\n",
    "data_dummies=pd.get_dummies(data,drop_first=True)"
   ]
  },
  {
   "cell_type": "code",
   "execution_count": 35,
   "id": "36cb3be7",
   "metadata": {
    "execution": {
     "iopub.execute_input": "2022-05-19T19:05:00.744485Z",
     "iopub.status.busy": "2022-05-19T19:05:00.744057Z",
     "iopub.status.idle": "2022-05-19T19:05:00.764758Z",
     "shell.execute_reply": "2022-05-19T19:05:00.764007Z"
    },
    "papermill": {
     "duration": 0.158277,
     "end_time": "2022-05-19T19:05:00.767057",
     "exception": false,
     "start_time": "2022-05-19T19:05:00.608780",
     "status": "completed"
    },
    "tags": []
   },
   "outputs": [
    {
     "name": "stdout",
     "output_type": "stream",
     "text": [
      "<class 'pandas.core.frame.DataFrame'>\n",
      "RangeIndex: 41173 entries, 0 to 41172\n",
      "Data columns (total 34 columns):\n",
      " #   Column             Non-Null Count  Dtype  \n",
      "---  ------             --------------  -----  \n",
      " 0   index              41173 non-null  int64  \n",
      " 1   age                41173 non-null  int64  \n",
      " 2   education          41173 non-null  int64  \n",
      " 3   month              41173 non-null  int64  \n",
      " 4   day_of_week        41173 non-null  int64  \n",
      " 5   duration           41173 non-null  int64  \n",
      " 6   campaign           41173 non-null  int64  \n",
      " 7   previous           41173 non-null  int64  \n",
      " 8   poutcome           41173 non-null  int64  \n",
      " 9   emp.var.rate       41173 non-null  float64\n",
      " 10  cons.price.idx     41173 non-null  float64\n",
      " 11  cons.conf.idx      41173 non-null  float64\n",
      " 12  euribor3m          41173 non-null  float64\n",
      " 13  nr.employed        41173 non-null  float64\n",
      " 14  y                  41173 non-null  int64  \n",
      " 15  job_entrepreneur   41173 non-null  uint8  \n",
      " 16  job_management     41173 non-null  uint8  \n",
      " 17  job_retired        41173 non-null  uint8  \n",
      " 18  job_services       41173 non-null  uint8  \n",
      " 19  job_technician     41173 non-null  uint8  \n",
      " 20  job_unemployed     41173 non-null  uint8  \n",
      " 21  job_unknown        41173 non-null  uint8  \n",
      " 22  marital_married    41173 non-null  uint8  \n",
      " 23  marital_single     41173 non-null  uint8  \n",
      " 24  marital_unknown    41173 non-null  uint8  \n",
      " 25  default_unknown    41173 non-null  uint8  \n",
      " 26  default_yes        41173 non-null  uint8  \n",
      " 27  housing_unknown    41173 non-null  uint8  \n",
      " 28  housing_yes        41173 non-null  uint8  \n",
      " 29  loan_unknown       41173 non-null  uint8  \n",
      " 30  loan_yes           41173 non-null  uint8  \n",
      " 31  contact_telephone  41173 non-null  uint8  \n",
      " 32  pdays_Moderate     41173 non-null  uint8  \n",
      " 33  pdays_High         41173 non-null  uint8  \n",
      "dtypes: float64(5), int64(10), uint8(19)\n",
      "memory usage: 5.5 MB\n"
     ]
    }
   ],
   "source": [
    "data_dummies.info()"
   ]
  },
  {
   "cell_type": "code",
   "execution_count": 36,
   "id": "dbbf3cd9",
   "metadata": {
    "execution": {
     "iopub.execute_input": "2022-05-19T19:05:01.894426Z",
     "iopub.status.busy": "2022-05-19T19:05:01.894029Z",
     "iopub.status.idle": "2022-05-19T19:05:01.898220Z",
     "shell.execute_reply": "2022-05-19T19:05:01.897096Z"
    },
    "papermill": {
     "duration": 0.147162,
     "end_time": "2022-05-19T19:05:01.900487",
     "exception": false,
     "start_time": "2022-05-19T19:05:01.753325",
     "status": "completed"
    },
    "tags": []
   },
   "outputs": [],
   "source": [
    "from sklearn.preprocessing import StandardScaler\n",
    "from sklearn.linear_model import LogisticRegression\n",
    "from sklearn.model_selection import train_test_split\n",
    "from sklearn.metrics import classification_report,confusion_matrix,accuracy_score\n",
    "from sklearn.ensemble import RandomForestClassifier"
   ]
  },
  {
   "cell_type": "code",
   "execution_count": 37,
   "id": "68121ad8",
   "metadata": {
    "execution": {
     "iopub.execute_input": "2022-05-19T19:05:02.177474Z",
     "iopub.status.busy": "2022-05-19T19:05:02.176601Z",
     "iopub.status.idle": "2022-05-19T19:05:03.187212Z",
     "shell.execute_reply": "2022-05-19T19:05:03.186578Z"
    },
    "papermill": {
     "duration": 1.149977,
     "end_time": "2022-05-19T19:05:03.189446",
     "exception": false,
     "start_time": "2022-05-19T19:05:02.039469",
     "status": "completed"
    },
    "tags": []
   },
   "outputs": [
    {
     "data": {
      "text/html": [
       "<style>#sk-container-id-1 {color: black;background-color: white;}#sk-container-id-1 pre{padding: 0;}#sk-container-id-1 div.sk-toggleable {background-color: white;}#sk-container-id-1 label.sk-toggleable__label {cursor: pointer;display: block;width: 100%;margin-bottom: 0;padding: 0.3em;box-sizing: border-box;text-align: center;}#sk-container-id-1 label.sk-toggleable__label-arrow:before {content: \"▸\";float: left;margin-right: 0.25em;color: #696969;}#sk-container-id-1 label.sk-toggleable__label-arrow:hover:before {color: black;}#sk-container-id-1 div.sk-estimator:hover label.sk-toggleable__label-arrow:before {color: black;}#sk-container-id-1 div.sk-toggleable__content {max-height: 0;max-width: 0;overflow: hidden;text-align: left;background-color: #f0f8ff;}#sk-container-id-1 div.sk-toggleable__content pre {margin: 0.2em;color: black;border-radius: 0.25em;background-color: #f0f8ff;}#sk-container-id-1 input.sk-toggleable__control:checked~div.sk-toggleable__content {max-height: 200px;max-width: 100%;overflow: auto;}#sk-container-id-1 input.sk-toggleable__control:checked~label.sk-toggleable__label-arrow:before {content: \"▾\";}#sk-container-id-1 div.sk-estimator input.sk-toggleable__control:checked~label.sk-toggleable__label {background-color: #d4ebff;}#sk-container-id-1 div.sk-label input.sk-toggleable__control:checked~label.sk-toggleable__label {background-color: #d4ebff;}#sk-container-id-1 input.sk-hidden--visually {border: 0;clip: rect(1px 1px 1px 1px);clip: rect(1px, 1px, 1px, 1px);height: 1px;margin: -1px;overflow: hidden;padding: 0;position: absolute;width: 1px;}#sk-container-id-1 div.sk-estimator {font-family: monospace;background-color: #f0f8ff;border: 1px dotted black;border-radius: 0.25em;box-sizing: border-box;margin-bottom: 0.5em;}#sk-container-id-1 div.sk-estimator:hover {background-color: #d4ebff;}#sk-container-id-1 div.sk-parallel-item::after {content: \"\";width: 100%;border-bottom: 1px solid gray;flex-grow: 1;}#sk-container-id-1 div.sk-label:hover label.sk-toggleable__label {background-color: #d4ebff;}#sk-container-id-1 div.sk-serial::before {content: \"\";position: absolute;border-left: 1px solid gray;box-sizing: border-box;top: 0;bottom: 0;left: 50%;z-index: 0;}#sk-container-id-1 div.sk-serial {display: flex;flex-direction: column;align-items: center;background-color: white;padding-right: 0.2em;padding-left: 0.2em;position: relative;}#sk-container-id-1 div.sk-item {position: relative;z-index: 1;}#sk-container-id-1 div.sk-parallel {display: flex;align-items: stretch;justify-content: center;background-color: white;position: relative;}#sk-container-id-1 div.sk-item::before, #sk-container-id-1 div.sk-parallel-item::before {content: \"\";position: absolute;border-left: 1px solid gray;box-sizing: border-box;top: 0;bottom: 0;left: 50%;z-index: -1;}#sk-container-id-1 div.sk-parallel-item {display: flex;flex-direction: column;z-index: 1;position: relative;background-color: white;}#sk-container-id-1 div.sk-parallel-item:first-child::after {align-self: flex-end;width: 50%;}#sk-container-id-1 div.sk-parallel-item:last-child::after {align-self: flex-start;width: 50%;}#sk-container-id-1 div.sk-parallel-item:only-child::after {width: 0;}#sk-container-id-1 div.sk-dashed-wrapped {border: 1px dashed gray;margin: 0 0.4em 0.5em 0.4em;box-sizing: border-box;padding-bottom: 0.4em;background-color: white;}#sk-container-id-1 div.sk-label label {font-family: monospace;font-weight: bold;display: inline-block;line-height: 1.2em;}#sk-container-id-1 div.sk-label-container {text-align: center;}#sk-container-id-1 div.sk-container {/* jupyter's `normalize.less` sets `[hidden] { display: none; }` but bootstrap.min.css set `[hidden] { display: none !important; }` so we also need the `!important` here to be able to override the default hidden behavior on the sphinx rendered scikit-learn.org. See: https://github.com/scikit-learn/scikit-learn/issues/21755 */display: inline-block !important;position: relative;}#sk-container-id-1 div.sk-text-repr-fallback {display: none;}</style><div id=\"sk-container-id-1\" class=\"sk-top-container\"><div class=\"sk-text-repr-fallback\"><pre>RandomForestClassifier(n_estimators=50, n_jobs=-1, oob_score=True,\n",
       "                       random_state=1)</pre><b>In a Jupyter environment, please rerun this cell to show the HTML representation or trust the notebook. <br />On GitHub, the HTML representation is unable to render, please try loading this page with nbviewer.org.</b></div><div class=\"sk-container\" hidden><div class=\"sk-item\"><div class=\"sk-estimator sk-toggleable\"><input class=\"sk-toggleable__control sk-hidden--visually\" id=\"sk-estimator-id-1\" type=\"checkbox\" checked><label for=\"sk-estimator-id-1\" class=\"sk-toggleable__label sk-toggleable__label-arrow\">RandomForestClassifier</label><div class=\"sk-toggleable__content\"><pre>RandomForestClassifier(n_estimators=50, n_jobs=-1, oob_score=True,\n",
       "                       random_state=1)</pre></div></div></div></div></div>"
      ],
      "text/plain": [
       "RandomForestClassifier(n_estimators=50, n_jobs=-1, oob_score=True,\n",
       "                       random_state=1)"
      ]
     },
     "execution_count": 37,
     "metadata": {},
     "output_type": "execute_result"
    }
   ],
   "source": [
    "x=data_dummies.drop('y',axis=1)\n",
    "y=data_dummies['y']\n",
    "\n",
    "x_train,x_test,y_train,y_test=train_test_split(x,y,test_size=0.25,random_state=1)\n",
    "\n",
    "RFC=RandomForestClassifier(n_estimators=50,n_jobs=-1,oob_score=True,random_state=1)\n",
    "\n",
    "RFC.fit(x_train,y_train)"
   ]
  },
  {
   "cell_type": "markdown",
   "id": "0b62ea98",
   "metadata": {
    "papermill": {
     "duration": 0.145489,
     "end_time": "2022-05-19T19:05:03.472933",
     "exception": false,
     "start_time": "2022-05-19T19:05:03.327444",
     "status": "completed"
    },
    "tags": []
   },
   "source": [
    "#### c. Selecting important features based on Random Forest"
   ]
  },
  {
   "cell_type": "code",
   "execution_count": 38,
   "id": "f35840b3",
   "metadata": {
    "execution": {
     "iopub.execute_input": "2022-05-19T19:05:03.747563Z",
     "iopub.status.busy": "2022-05-19T19:05:03.747139Z",
     "iopub.status.idle": "2022-05-19T19:05:03.863794Z",
     "shell.execute_reply": "2022-05-19T19:05:03.862978Z"
    },
    "papermill": {
     "duration": 0.255554,
     "end_time": "2022-05-19T19:05:03.865550",
     "exception": false,
     "start_time": "2022-05-19T19:05:03.609996",
     "status": "completed"
    },
    "tags": []
   },
   "outputs": [
    {
     "data": {
      "text/html": [
       "<div>\n",
       "<style scoped>\n",
       "    .dataframe tbody tr th:only-of-type {\n",
       "        vertical-align: middle;\n",
       "    }\n",
       "\n",
       "    .dataframe tbody tr th {\n",
       "        vertical-align: top;\n",
       "    }\n",
       "\n",
       "    .dataframe thead th {\n",
       "        text-align: right;\n",
       "    }\n",
       "</style>\n",
       "<table border=\"1\" class=\"dataframe\">\n",
       "  <thead>\n",
       "    <tr style=\"text-align: right;\">\n",
       "      <th></th>\n",
       "      <th>colname</th>\n",
       "      <th>count</th>\n",
       "    </tr>\n",
       "  </thead>\n",
       "  <tbody>\n",
       "    <tr>\n",
       "      <th>5</th>\n",
       "      <td>duration</td>\n",
       "      <td>2.956265e-01</td>\n",
       "    </tr>\n",
       "    <tr>\n",
       "      <th>0</th>\n",
       "      <td>index</td>\n",
       "      <td>1.318981e-01</td>\n",
       "    </tr>\n",
       "    <tr>\n",
       "      <th>12</th>\n",
       "      <td>euribor3m</td>\n",
       "      <td>9.248444e-02</td>\n",
       "    </tr>\n",
       "    <tr>\n",
       "      <th>1</th>\n",
       "      <td>age</td>\n",
       "      <td>7.769670e-02</td>\n",
       "    </tr>\n",
       "    <tr>\n",
       "      <th>13</th>\n",
       "      <td>nr.employed</td>\n",
       "      <td>5.107522e-02</td>\n",
       "    </tr>\n",
       "    <tr>\n",
       "      <th>6</th>\n",
       "      <td>campaign</td>\n",
       "      <td>3.720799e-02</td>\n",
       "    </tr>\n",
       "    <tr>\n",
       "      <th>2</th>\n",
       "      <td>education</td>\n",
       "      <td>3.373477e-02</td>\n",
       "    </tr>\n",
       "    <tr>\n",
       "      <th>4</th>\n",
       "      <td>day_of_week</td>\n",
       "      <td>3.306782e-02</td>\n",
       "    </tr>\n",
       "    <tr>\n",
       "      <th>8</th>\n",
       "      <td>poutcome</td>\n",
       "      <td>2.942598e-02</td>\n",
       "    </tr>\n",
       "    <tr>\n",
       "      <th>11</th>\n",
       "      <td>cons.conf.idx</td>\n",
       "      <td>2.428647e-02</td>\n",
       "    </tr>\n",
       "    <tr>\n",
       "      <th>10</th>\n",
       "      <td>cons.price.idx</td>\n",
       "      <td>1.872479e-02</td>\n",
       "    </tr>\n",
       "    <tr>\n",
       "      <th>9</th>\n",
       "      <td>emp.var.rate</td>\n",
       "      <td>1.631549e-02</td>\n",
       "    </tr>\n",
       "    <tr>\n",
       "      <th>27</th>\n",
       "      <td>housing_yes</td>\n",
       "      <td>1.617253e-02</td>\n",
       "    </tr>\n",
       "    <tr>\n",
       "      <th>3</th>\n",
       "      <td>month</td>\n",
       "      <td>1.375358e-02</td>\n",
       "    </tr>\n",
       "    <tr>\n",
       "      <th>18</th>\n",
       "      <td>job_technician</td>\n",
       "      <td>1.269736e-02</td>\n",
       "    </tr>\n",
       "    <tr>\n",
       "      <th>29</th>\n",
       "      <td>loan_yes</td>\n",
       "      <td>1.195150e-02</td>\n",
       "    </tr>\n",
       "    <tr>\n",
       "      <th>21</th>\n",
       "      <td>marital_married</td>\n",
       "      <td>1.183577e-02</td>\n",
       "    </tr>\n",
       "    <tr>\n",
       "      <th>7</th>\n",
       "      <td>previous</td>\n",
       "      <td>1.137473e-02</td>\n",
       "    </tr>\n",
       "    <tr>\n",
       "      <th>22</th>\n",
       "      <td>marital_single</td>\n",
       "      <td>1.100450e-02</td>\n",
       "    </tr>\n",
       "    <tr>\n",
       "      <th>30</th>\n",
       "      <td>contact_telephone</td>\n",
       "      <td>9.092324e-03</td>\n",
       "    </tr>\n",
       "    <tr>\n",
       "      <th>24</th>\n",
       "      <td>default_unknown</td>\n",
       "      <td>7.769529e-03</td>\n",
       "    </tr>\n",
       "    <tr>\n",
       "      <th>17</th>\n",
       "      <td>job_services</td>\n",
       "      <td>7.612933e-03</td>\n",
       "    </tr>\n",
       "    <tr>\n",
       "      <th>32</th>\n",
       "      <td>pdays_High</td>\n",
       "      <td>7.314754e-03</td>\n",
       "    </tr>\n",
       "    <tr>\n",
       "      <th>15</th>\n",
       "      <td>job_management</td>\n",
       "      <td>6.574966e-03</td>\n",
       "    </tr>\n",
       "    <tr>\n",
       "      <th>14</th>\n",
       "      <td>job_entrepreneur</td>\n",
       "      <td>6.526105e-03</td>\n",
       "    </tr>\n",
       "    <tr>\n",
       "      <th>31</th>\n",
       "      <td>pdays_Moderate</td>\n",
       "      <td>6.525477e-03</td>\n",
       "    </tr>\n",
       "    <tr>\n",
       "      <th>19</th>\n",
       "      <td>job_unemployed</td>\n",
       "      <td>5.970384e-03</td>\n",
       "    </tr>\n",
       "    <tr>\n",
       "      <th>16</th>\n",
       "      <td>job_retired</td>\n",
       "      <td>5.701030e-03</td>\n",
       "    </tr>\n",
       "    <tr>\n",
       "      <th>26</th>\n",
       "      <td>housing_unknown</td>\n",
       "      <td>2.276540e-03</td>\n",
       "    </tr>\n",
       "    <tr>\n",
       "      <th>28</th>\n",
       "      <td>loan_unknown</td>\n",
       "      <td>2.130146e-03</td>\n",
       "    </tr>\n",
       "    <tr>\n",
       "      <th>20</th>\n",
       "      <td>job_unknown</td>\n",
       "      <td>1.584215e-03</td>\n",
       "    </tr>\n",
       "    <tr>\n",
       "      <th>23</th>\n",
       "      <td>marital_unknown</td>\n",
       "      <td>5.873064e-04</td>\n",
       "    </tr>\n",
       "    <tr>\n",
       "      <th>25</th>\n",
       "      <td>default_yes</td>\n",
       "      <td>4.075303e-10</td>\n",
       "    </tr>\n",
       "  </tbody>\n",
       "</table>\n",
       "</div>"
      ],
      "text/plain": [
       "              colname         count\n",
       "5            duration  2.956265e-01\n",
       "0               index  1.318981e-01\n",
       "12          euribor3m  9.248444e-02\n",
       "1                 age  7.769670e-02\n",
       "13        nr.employed  5.107522e-02\n",
       "6            campaign  3.720799e-02\n",
       "2           education  3.373477e-02\n",
       "4         day_of_week  3.306782e-02\n",
       "8            poutcome  2.942598e-02\n",
       "11      cons.conf.idx  2.428647e-02\n",
       "10     cons.price.idx  1.872479e-02\n",
       "9        emp.var.rate  1.631549e-02\n",
       "27        housing_yes  1.617253e-02\n",
       "3               month  1.375358e-02\n",
       "18     job_technician  1.269736e-02\n",
       "29           loan_yes  1.195150e-02\n",
       "21    marital_married  1.183577e-02\n",
       "7            previous  1.137473e-02\n",
       "22     marital_single  1.100450e-02\n",
       "30  contact_telephone  9.092324e-03\n",
       "24    default_unknown  7.769529e-03\n",
       "17       job_services  7.612933e-03\n",
       "32         pdays_High  7.314754e-03\n",
       "15     job_management  6.574966e-03\n",
       "14   job_entrepreneur  6.526105e-03\n",
       "31     pdays_Moderate  6.525477e-03\n",
       "19     job_unemployed  5.970384e-03\n",
       "16        job_retired  5.701030e-03\n",
       "26    housing_unknown  2.276540e-03\n",
       "28       loan_unknown  2.130146e-03\n",
       "20        job_unknown  1.584215e-03\n",
       "23    marital_unknown  5.873064e-04\n",
       "25        default_yes  4.075303e-10"
      ]
     },
     "execution_count": 38,
     "metadata": {},
     "output_type": "execute_result"
    }
   ],
   "source": [
    "dfImpFeatures=pd.DataFrame(columns=['colname','count'])\n",
    "dfImpFeatures['colname']=x.columns\n",
    "dfImpFeatures['count']=RFC.feature_importances_\n",
    "dfImpFeatures.sort_values(by='count',ascending=False)"
   ]
  },
  {
   "cell_type": "code",
   "execution_count": 39,
   "id": "d5103dea",
   "metadata": {
    "execution": {
     "iopub.execute_input": "2022-05-19T19:05:04.143329Z",
     "iopub.status.busy": "2022-05-19T19:05:04.142963Z",
     "iopub.status.idle": "2022-05-19T19:05:04.146384Z",
     "shell.execute_reply": "2022-05-19T19:05:04.145968Z"
    },
    "papermill": {
     "duration": 0.144733,
     "end_time": "2022-05-19T19:05:04.148861",
     "exception": false,
     "start_time": "2022-05-19T19:05:04.004128",
     "status": "completed"
    },
    "tags": []
   },
   "outputs": [],
   "source": [
    "# to select the best features we take a Treshold of 0.03\n",
    "Imp=dfImpFeatures[dfImpFeatures['count']>0.03]"
   ]
  },
  {
   "cell_type": "code",
   "execution_count": 40,
   "id": "fed5be73",
   "metadata": {
    "execution": {
     "iopub.execute_input": "2022-05-19T19:05:04.429581Z",
     "iopub.status.busy": "2022-05-19T19:05:04.429229Z",
     "iopub.status.idle": "2022-05-19T19:05:04.435714Z",
     "shell.execute_reply": "2022-05-19T19:05:04.434731Z"
    },
    "papermill": {
     "duration": 0.147761,
     "end_time": "2022-05-19T19:05:04.437423",
     "exception": false,
     "start_time": "2022-05-19T19:05:04.289662",
     "status": "completed"
    },
    "tags": []
   },
   "outputs": [
    {
     "data": {
      "text/plain": [
       "array(['index', 'age', 'education', 'day_of_week', 'duration', 'campaign',\n",
       "       'euribor3m', 'nr.employed'], dtype=object)"
      ]
     },
     "execution_count": 40,
     "metadata": {},
     "output_type": "execute_result"
    }
   ],
   "source": [
    "# to select the best features we take a Treshold of 0.03\n",
    "Impcolumns=Imp['colname'].values\n",
    "Impcolumns"
   ]
  },
  {
   "cell_type": "code",
   "execution_count": 41,
   "id": "ca6cccea",
   "metadata": {
    "execution": {
     "iopub.execute_input": "2022-05-19T19:05:04.715614Z",
     "iopub.status.busy": "2022-05-19T19:05:04.714867Z",
     "iopub.status.idle": "2022-05-19T19:05:04.723521Z",
     "shell.execute_reply": "2022-05-19T19:05:04.721795Z"
    },
    "papermill": {
     "duration": 0.150348,
     "end_time": "2022-05-19T19:05:04.725827",
     "exception": false,
     "start_time": "2022-05-19T19:05:04.575479",
     "status": "completed"
    },
    "tags": []
   },
   "outputs": [
    {
     "data": {
      "text/plain": [
       "0    36534\n",
       "1     4639\n",
       "Name: y, dtype: int64"
      ]
     },
     "execution_count": 41,
     "metadata": {},
     "output_type": "execute_result"
    }
   ],
   "source": [
    "data_dummies.y.value_counts()"
   ]
  },
  {
   "cell_type": "markdown",
   "id": "0389f3fe",
   "metadata": {
    "papermill": {
     "duration": 0.095435,
     "end_time": "2022-05-19T19:05:04.921777",
     "exception": false,
     "start_time": "2022-05-19T19:05:04.826342",
     "status": "completed"
    },
    "tags": []
   },
   "source": [
    "#### d. Handling unbalanced data using SMOTE\n"
   ]
  },
  {
   "cell_type": "code",
   "execution_count": 42,
   "id": "0db5b97b",
   "metadata": {
    "execution": {
     "iopub.execute_input": "2022-05-19T19:05:05.112679Z",
     "iopub.status.busy": "2022-05-19T19:05:05.112386Z",
     "iopub.status.idle": "2022-05-19T19:05:05.393793Z",
     "shell.execute_reply": "2022-05-19T19:05:05.392952Z"
    },
    "papermill": {
     "duration": 0.379259,
     "end_time": "2022-05-19T19:05:05.395765",
     "exception": false,
     "start_time": "2022-05-19T19:05:05.016506",
     "status": "completed"
    },
    "tags": []
   },
   "outputs": [],
   "source": [
    "from imblearn.over_sampling import SMOTE\n",
    "\n",
    "x=data_dummies[Impcolumns]\n",
    "y=data_dummies['y']\n",
    "\n",
    "smote=SMOTE()\n",
    "\n",
    "x_resamp,y_resamp=smote.fit_resample(x,y.ravel())\n",
    "\n",
    "x_train,x_test,y_train,y_test=train_test_split(x_resamp,y_resamp,test_size=0.25,random_state=100)"
   ]
  },
  {
   "cell_type": "markdown",
   "id": "ff69f85b",
   "metadata": {
    "papermill": {
     "duration": 0.091012,
     "end_time": "2022-05-19T19:05:05.580331",
     "exception": false,
     "start_time": "2022-05-19T19:05:05.489319",
     "status": "completed"
    },
    "tags": []
   },
   "source": [
    "#### e. Standard Scaler"
   ]
  },
  {
   "cell_type": "code",
   "execution_count": 43,
   "id": "8ae5f8bd",
   "metadata": {
    "execution": {
     "iopub.execute_input": "2022-05-19T19:05:05.770936Z",
     "iopub.status.busy": "2022-05-19T19:05:05.770464Z",
     "iopub.status.idle": "2022-05-19T19:05:05.787093Z",
     "shell.execute_reply": "2022-05-19T19:05:05.786163Z"
    },
    "papermill": {
     "duration": 0.112708,
     "end_time": "2022-05-19T19:05:05.788987",
     "exception": false,
     "start_time": "2022-05-19T19:05:05.676279",
     "status": "completed"
    },
    "tags": []
   },
   "outputs": [],
   "source": [
    "x=data_dummies[Impcolumns]\n",
    "sc=StandardScaler()\n",
    "x_train_sc=sc.fit_transform(x_train)\n",
    "x_test_sc=sc.transform(x_test)"
   ]
  },
  {
   "cell_type": "markdown",
   "id": "e6b8e11a",
   "metadata": {
    "papermill": {
     "duration": 0.091864,
     "end_time": "2022-05-19T19:05:05.975832",
     "exception": false,
     "start_time": "2022-05-19T19:05:05.883968",
     "status": "completed"
    },
    "tags": []
   },
   "source": [
    "## Build the following Supervised Learning models:"
   ]
  },
  {
   "cell_type": "markdown",
   "id": "b7a428be",
   "metadata": {
    "papermill": {
     "duration": 0.09556,
     "end_time": "2022-05-19T19:05:06.167948",
     "exception": false,
     "start_time": "2022-05-19T19:05:06.072388",
     "status": "completed"
    },
    "tags": []
   },
   "source": [
    "### a. Logistic Regression"
   ]
  },
  {
   "cell_type": "code",
   "execution_count": 44,
   "id": "fffcaa25",
   "metadata": {
    "execution": {
     "iopub.execute_input": "2022-05-19T19:05:06.360578Z",
     "iopub.status.busy": "2022-05-19T19:05:06.360104Z",
     "iopub.status.idle": "2022-05-19T19:05:06.511144Z",
     "shell.execute_reply": "2022-05-19T19:05:06.510572Z"
    },
    "papermill": {
     "duration": 0.251226,
     "end_time": "2022-05-19T19:05:06.512988",
     "exception": false,
     "start_time": "2022-05-19T19:05:06.261762",
     "status": "completed"
    },
    "tags": []
   },
   "outputs": [
    {
     "data": {
      "text/html": [
       "<style>#sk-container-id-2 {color: black;background-color: white;}#sk-container-id-2 pre{padding: 0;}#sk-container-id-2 div.sk-toggleable {background-color: white;}#sk-container-id-2 label.sk-toggleable__label {cursor: pointer;display: block;width: 100%;margin-bottom: 0;padding: 0.3em;box-sizing: border-box;text-align: center;}#sk-container-id-2 label.sk-toggleable__label-arrow:before {content: \"▸\";float: left;margin-right: 0.25em;color: #696969;}#sk-container-id-2 label.sk-toggleable__label-arrow:hover:before {color: black;}#sk-container-id-2 div.sk-estimator:hover label.sk-toggleable__label-arrow:before {color: black;}#sk-container-id-2 div.sk-toggleable__content {max-height: 0;max-width: 0;overflow: hidden;text-align: left;background-color: #f0f8ff;}#sk-container-id-2 div.sk-toggleable__content pre {margin: 0.2em;color: black;border-radius: 0.25em;background-color: #f0f8ff;}#sk-container-id-2 input.sk-toggleable__control:checked~div.sk-toggleable__content {max-height: 200px;max-width: 100%;overflow: auto;}#sk-container-id-2 input.sk-toggleable__control:checked~label.sk-toggleable__label-arrow:before {content: \"▾\";}#sk-container-id-2 div.sk-estimator input.sk-toggleable__control:checked~label.sk-toggleable__label {background-color: #d4ebff;}#sk-container-id-2 div.sk-label input.sk-toggleable__control:checked~label.sk-toggleable__label {background-color: #d4ebff;}#sk-container-id-2 input.sk-hidden--visually {border: 0;clip: rect(1px 1px 1px 1px);clip: rect(1px, 1px, 1px, 1px);height: 1px;margin: -1px;overflow: hidden;padding: 0;position: absolute;width: 1px;}#sk-container-id-2 div.sk-estimator {font-family: monospace;background-color: #f0f8ff;border: 1px dotted black;border-radius: 0.25em;box-sizing: border-box;margin-bottom: 0.5em;}#sk-container-id-2 div.sk-estimator:hover {background-color: #d4ebff;}#sk-container-id-2 div.sk-parallel-item::after {content: \"\";width: 100%;border-bottom: 1px solid gray;flex-grow: 1;}#sk-container-id-2 div.sk-label:hover label.sk-toggleable__label {background-color: #d4ebff;}#sk-container-id-2 div.sk-serial::before {content: \"\";position: absolute;border-left: 1px solid gray;box-sizing: border-box;top: 0;bottom: 0;left: 50%;z-index: 0;}#sk-container-id-2 div.sk-serial {display: flex;flex-direction: column;align-items: center;background-color: white;padding-right: 0.2em;padding-left: 0.2em;position: relative;}#sk-container-id-2 div.sk-item {position: relative;z-index: 1;}#sk-container-id-2 div.sk-parallel {display: flex;align-items: stretch;justify-content: center;background-color: white;position: relative;}#sk-container-id-2 div.sk-item::before, #sk-container-id-2 div.sk-parallel-item::before {content: \"\";position: absolute;border-left: 1px solid gray;box-sizing: border-box;top: 0;bottom: 0;left: 50%;z-index: -1;}#sk-container-id-2 div.sk-parallel-item {display: flex;flex-direction: column;z-index: 1;position: relative;background-color: white;}#sk-container-id-2 div.sk-parallel-item:first-child::after {align-self: flex-end;width: 50%;}#sk-container-id-2 div.sk-parallel-item:last-child::after {align-self: flex-start;width: 50%;}#sk-container-id-2 div.sk-parallel-item:only-child::after {width: 0;}#sk-container-id-2 div.sk-dashed-wrapped {border: 1px dashed gray;margin: 0 0.4em 0.5em 0.4em;box-sizing: border-box;padding-bottom: 0.4em;background-color: white;}#sk-container-id-2 div.sk-label label {font-family: monospace;font-weight: bold;display: inline-block;line-height: 1.2em;}#sk-container-id-2 div.sk-label-container {text-align: center;}#sk-container-id-2 div.sk-container {/* jupyter's `normalize.less` sets `[hidden] { display: none; }` but bootstrap.min.css set `[hidden] { display: none !important; }` so we also need the `!important` here to be able to override the default hidden behavior on the sphinx rendered scikit-learn.org. See: https://github.com/scikit-learn/scikit-learn/issues/21755 */display: inline-block !important;position: relative;}#sk-container-id-2 div.sk-text-repr-fallback {display: none;}</style><div id=\"sk-container-id-2\" class=\"sk-top-container\"><div class=\"sk-text-repr-fallback\"><pre>LogisticRegression()</pre><b>In a Jupyter environment, please rerun this cell to show the HTML representation or trust the notebook. <br />On GitHub, the HTML representation is unable to render, please try loading this page with nbviewer.org.</b></div><div class=\"sk-container\" hidden><div class=\"sk-item\"><div class=\"sk-estimator sk-toggleable\"><input class=\"sk-toggleable__control sk-hidden--visually\" id=\"sk-estimator-id-2\" type=\"checkbox\" checked><label for=\"sk-estimator-id-2\" class=\"sk-toggleable__label sk-toggleable__label-arrow\">LogisticRegression</label><div class=\"sk-toggleable__content\"><pre>LogisticRegression()</pre></div></div></div></div></div>"
      ],
      "text/plain": [
       "LogisticRegression()"
      ]
     },
     "execution_count": 44,
     "metadata": {},
     "output_type": "execute_result"
    }
   ],
   "source": [
    "lr=LogisticRegression()\n",
    "\n",
    "lr.fit(x_train_sc,y_train)"
   ]
  },
  {
   "cell_type": "code",
   "execution_count": 45,
   "id": "3e2992a9",
   "metadata": {
    "execution": {
     "iopub.execute_input": "2022-05-19T19:05:06.725801Z",
     "iopub.status.busy": "2022-05-19T19:05:06.725464Z",
     "iopub.status.idle": "2022-05-19T19:05:06.732902Z",
     "shell.execute_reply": "2022-05-19T19:05:06.732225Z"
    },
    "papermill": {
     "duration": 0.10432,
     "end_time": "2022-05-19T19:05:06.735462",
     "exception": false,
     "start_time": "2022-05-19T19:05:06.631142",
     "status": "completed"
    },
    "tags": []
   },
   "outputs": [],
   "source": [
    "train_pred=lr.predict(x_train_sc)"
   ]
  },
  {
   "cell_type": "code",
   "execution_count": 46,
   "id": "78462200",
   "metadata": {
    "execution": {
     "iopub.execute_input": "2022-05-19T19:05:06.948931Z",
     "iopub.status.busy": "2022-05-19T19:05:06.948666Z",
     "iopub.status.idle": "2022-05-19T19:05:06.955115Z",
     "shell.execute_reply": "2022-05-19T19:05:06.954418Z"
    },
    "papermill": {
     "duration": 0.102587,
     "end_time": "2022-05-19T19:05:06.956975",
     "exception": false,
     "start_time": "2022-05-19T19:05:06.854388",
     "status": "completed"
    },
    "tags": []
   },
   "outputs": [],
   "source": [
    "test_pred=lr.predict(x_test_sc)"
   ]
  },
  {
   "cell_type": "code",
   "execution_count": 47,
   "id": "7b30e799",
   "metadata": {
    "execution": {
     "iopub.execute_input": "2022-05-19T19:05:07.172649Z",
     "iopub.status.busy": "2022-05-19T19:05:07.172360Z",
     "iopub.status.idle": "2022-05-19T19:05:07.282410Z",
     "shell.execute_reply": "2022-05-19T19:05:07.280440Z"
    },
    "papermill": {
     "duration": 0.2076,
     "end_time": "2022-05-19T19:05:07.284786",
     "exception": false,
     "start_time": "2022-05-19T19:05:07.077186",
     "status": "completed"
    },
    "tags": []
   },
   "outputs": [
    {
     "name": "stdout",
     "output_type": "stream",
     "text": [
      "              precision    recall  f1-score   support\n",
      "\n",
      "           0       0.85      0.84      0.85     27413\n",
      "           1       0.84      0.85      0.85     27388\n",
      "\n",
      "    accuracy                           0.85     54801\n",
      "   macro avg       0.85      0.85      0.85     54801\n",
      "weighted avg       0.85      0.85      0.85     54801\n",
      "\n",
      "              precision    recall  f1-score   support\n",
      "\n",
      "           0       0.86      0.84      0.85      9121\n",
      "           1       0.85      0.86      0.85      9146\n",
      "\n",
      "    accuracy                           0.85     18267\n",
      "   macro avg       0.85      0.85      0.85     18267\n",
      "weighted avg       0.85      0.85      0.85     18267\n",
      "\n"
     ]
    }
   ],
   "source": [
    "print(classification_report(y_train,train_pred))\n",
    "print(classification_report(y_test,test_pred))"
   ]
  },
  {
   "cell_type": "code",
   "execution_count": 48,
   "id": "9840580f",
   "metadata": {
    "execution": {
     "iopub.execute_input": "2022-05-19T19:05:07.473496Z",
     "iopub.status.busy": "2022-05-19T19:05:07.472149Z",
     "iopub.status.idle": "2022-05-19T19:05:07.482391Z",
     "shell.execute_reply": "2022-05-19T19:05:07.481542Z"
    },
    "papermill": {
     "duration": 0.106194,
     "end_time": "2022-05-19T19:05:07.484313",
     "exception": false,
     "start_time": "2022-05-19T19:05:07.378119",
     "status": "completed"
    },
    "tags": []
   },
   "outputs": [
    {
     "data": {
      "text/plain": [
       "0.8508238900749986"
      ]
     },
     "execution_count": 48,
     "metadata": {},
     "output_type": "execute_result"
    }
   ],
   "source": [
    "log_full_accuracy = accuracy_score(y_test,test_pred)\n",
    "log_full_accuracy "
   ]
  },
  {
   "cell_type": "markdown",
   "id": "b30e5059",
   "metadata": {
    "papermill": {
     "duration": 0.139248,
     "end_time": "2022-05-19T19:05:07.767194",
     "exception": false,
     "start_time": "2022-05-19T19:05:07.627946",
     "status": "completed"
    },
    "tags": []
   },
   "source": [
    "from above we can tell the model is good as we are getting a accuracy of 85% with good recall and precision"
   ]
  },
  {
   "cell_type": "markdown",
   "id": "22d85751",
   "metadata": {
    "papermill": {
     "duration": 0.141462,
     "end_time": "2022-05-19T19:05:08.050954",
     "exception": false,
     "start_time": "2022-05-19T19:05:07.909492",
     "status": "completed"
    },
    "tags": []
   },
   "source": [
    "### b. AdaBoost"
   ]
  },
  {
   "cell_type": "code",
   "execution_count": 49,
   "id": "78356f48",
   "metadata": {
    "execution": {
     "iopub.execute_input": "2022-05-19T19:05:08.339769Z",
     "iopub.status.busy": "2022-05-19T19:05:08.339371Z",
     "iopub.status.idle": "2022-05-19T19:05:08.342597Z",
     "shell.execute_reply": "2022-05-19T19:05:08.341854Z"
    },
    "papermill": {
     "duration": 0.149851,
     "end_time": "2022-05-19T19:05:08.345527",
     "exception": false,
     "start_time": "2022-05-19T19:05:08.195676",
     "status": "completed"
    },
    "tags": []
   },
   "outputs": [],
   "source": [
    "from sklearn.ensemble import AdaBoostClassifier\n",
    "ada=AdaBoostClassifier()"
   ]
  },
  {
   "cell_type": "code",
   "execution_count": 50,
   "id": "de52e81c",
   "metadata": {
    "execution": {
     "iopub.execute_input": "2022-05-19T19:05:08.630394Z",
     "iopub.status.busy": "2022-05-19T19:05:08.630175Z",
     "iopub.status.idle": "2022-05-19T19:05:10.824916Z",
     "shell.execute_reply": "2022-05-19T19:05:10.823891Z"
    },
    "papermill": {
     "duration": 2.337166,
     "end_time": "2022-05-19T19:05:10.827292",
     "exception": false,
     "start_time": "2022-05-19T19:05:08.490126",
     "status": "completed"
    },
    "tags": []
   },
   "outputs": [],
   "source": [
    "ada.fit(x_train_sc,y_train)\n",
    "\n",
    "train_pred=ada.predict(x_train_sc)\n",
    "\n",
    "test_pred=ada.predict(x_test_sc)"
   ]
  },
  {
   "cell_type": "code",
   "execution_count": 51,
   "id": "8f9f8c8f",
   "metadata": {
    "execution": {
     "iopub.execute_input": "2022-05-19T19:05:11.115239Z",
     "iopub.status.busy": "2022-05-19T19:05:11.115007Z",
     "iopub.status.idle": "2022-05-19T19:05:11.221196Z",
     "shell.execute_reply": "2022-05-19T19:05:11.219824Z"
    },
    "papermill": {
     "duration": 0.251645,
     "end_time": "2022-05-19T19:05:11.223402",
     "exception": false,
     "start_time": "2022-05-19T19:05:10.971757",
     "status": "completed"
    },
    "tags": []
   },
   "outputs": [
    {
     "name": "stdout",
     "output_type": "stream",
     "text": [
      "              precision    recall  f1-score   support\n",
      "\n",
      "           0       0.89      0.87      0.88     27413\n",
      "           1       0.87      0.89      0.88     27388\n",
      "\n",
      "    accuracy                           0.88     54801\n",
      "   macro avg       0.88      0.88      0.88     54801\n",
      "weighted avg       0.88      0.88      0.88     54801\n",
      "\n",
      "              precision    recall  f1-score   support\n",
      "\n",
      "           0       0.89      0.87      0.88      9121\n",
      "           1       0.87      0.90      0.88      9146\n",
      "\n",
      "    accuracy                           0.88     18267\n",
      "   macro avg       0.88      0.88      0.88     18267\n",
      "weighted avg       0.88      0.88      0.88     18267\n",
      "\n"
     ]
    }
   ],
   "source": [
    "print(classification_report(y_train,train_pred))\n",
    "print(classification_report(y_test,test_pred))"
   ]
  },
  {
   "cell_type": "code",
   "execution_count": 52,
   "id": "f1892818",
   "metadata": {
    "execution": {
     "iopub.execute_input": "2022-05-19T19:05:11.530865Z",
     "iopub.status.busy": "2022-05-19T19:05:11.530421Z",
     "iopub.status.idle": "2022-05-19T19:05:11.538699Z",
     "shell.execute_reply": "2022-05-19T19:05:11.537664Z"
    },
    "papermill": {
     "duration": 0.16638,
     "end_time": "2022-05-19T19:05:11.540890",
     "exception": false,
     "start_time": "2022-05-19T19:05:11.374510",
     "status": "completed"
    },
    "tags": []
   },
   "outputs": [
    {
     "data": {
      "text/plain": [
       "0.8827393660699622"
      ]
     },
     "execution_count": 52,
     "metadata": {},
     "output_type": "execute_result"
    }
   ],
   "source": [
    "adaboost_full_accuracy = accuracy_score(y_test, test_pred)\n",
    "adaboost_full_accuracy"
   ]
  },
  {
   "cell_type": "markdown",
   "id": "a0e0056b",
   "metadata": {
    "papermill": {
     "duration": 0.128069,
     "end_time": "2022-05-19T19:05:11.807841",
     "exception": false,
     "start_time": "2022-05-19T19:05:11.679772",
     "status": "completed"
    },
    "tags": []
   },
   "source": [
    "conclusion: we get a better model model compare to Logistic Regression ,which means the model has improved"
   ]
  },
  {
   "cell_type": "markdown",
   "id": "90014286",
   "metadata": {
    "papermill": {
     "duration": 0.090579,
     "end_time": "2022-05-19T19:05:11.989621",
     "exception": false,
     "start_time": "2022-05-19T19:05:11.899042",
     "status": "completed"
    },
    "tags": []
   },
   "source": [
    "### c. Naïve Bayes"
   ]
  },
  {
   "cell_type": "code",
   "execution_count": 53,
   "id": "9dca510e",
   "metadata": {
    "execution": {
     "iopub.execute_input": "2022-05-19T19:05:12.172863Z",
     "iopub.status.busy": "2022-05-19T19:05:12.172570Z",
     "iopub.status.idle": "2022-05-19T19:05:12.179089Z",
     "shell.execute_reply": "2022-05-19T19:05:12.178198Z"
    },
    "papermill": {
     "duration": 0.100685,
     "end_time": "2022-05-19T19:05:12.181100",
     "exception": false,
     "start_time": "2022-05-19T19:05:12.080415",
     "status": "completed"
    },
    "tags": []
   },
   "outputs": [],
   "source": [
    "from sklearn.naive_bayes import GaussianNB\n",
    "nbc=GaussianNB()"
   ]
  },
  {
   "cell_type": "code",
   "execution_count": 54,
   "id": "2d3f71c9",
   "metadata": {
    "execution": {
     "iopub.execute_input": "2022-05-19T19:05:12.367409Z",
     "iopub.status.busy": "2022-05-19T19:05:12.367162Z",
     "iopub.status.idle": "2022-05-19T19:05:12.392322Z",
     "shell.execute_reply": "2022-05-19T19:05:12.391726Z"
    },
    "papermill": {
     "duration": 0.121478,
     "end_time": "2022-05-19T19:05:12.394220",
     "exception": false,
     "start_time": "2022-05-19T19:05:12.272742",
     "status": "completed"
    },
    "tags": []
   },
   "outputs": [],
   "source": [
    "nbc.fit(x_train_sc,y_train)\n",
    "\n",
    "train_pred=nbc.predict(x_train_sc)\n",
    "\n",
    "test_pred=nbc.predict(x_test_sc)"
   ]
  },
  {
   "cell_type": "code",
   "execution_count": 55,
   "id": "6e70e8e3",
   "metadata": {
    "execution": {
     "iopub.execute_input": "2022-05-19T19:05:12.583059Z",
     "iopub.status.busy": "2022-05-19T19:05:12.582508Z",
     "iopub.status.idle": "2022-05-19T19:05:12.691916Z",
     "shell.execute_reply": "2022-05-19T19:05:12.691233Z"
    },
    "papermill": {
     "duration": 0.205681,
     "end_time": "2022-05-19T19:05:12.694115",
     "exception": false,
     "start_time": "2022-05-19T19:05:12.488434",
     "status": "completed"
    },
    "tags": []
   },
   "outputs": [
    {
     "name": "stdout",
     "output_type": "stream",
     "text": [
      "              precision    recall  f1-score   support\n",
      "\n",
      "           0       0.83      0.73      0.78     27413\n",
      "           1       0.76      0.85      0.80     27388\n",
      "\n",
      "    accuracy                           0.79     54801\n",
      "   macro avg       0.80      0.79      0.79     54801\n",
      "weighted avg       0.80      0.79      0.79     54801\n",
      "\n",
      "              precision    recall  f1-score   support\n",
      "\n",
      "           0       0.83      0.72      0.77      9121\n",
      "           1       0.75      0.85      0.80      9146\n",
      "\n",
      "    accuracy                           0.79     18267\n",
      "   macro avg       0.79      0.79      0.78     18267\n",
      "weighted avg       0.79      0.79      0.78     18267\n",
      "\n"
     ]
    }
   ],
   "source": [
    "print(classification_report(y_train,train_pred))\n",
    "print(classification_report(y_test,test_pred))"
   ]
  },
  {
   "cell_type": "code",
   "execution_count": 56,
   "id": "98870246",
   "metadata": {
    "execution": {
     "iopub.execute_input": "2022-05-19T19:05:12.970392Z",
     "iopub.status.busy": "2022-05-19T19:05:12.970126Z",
     "iopub.status.idle": "2022-05-19T19:05:12.979062Z",
     "shell.execute_reply": "2022-05-19T19:05:12.977822Z"
    },
    "papermill": {
     "duration": 0.144495,
     "end_time": "2022-05-19T19:05:12.981157",
     "exception": false,
     "start_time": "2022-05-19T19:05:12.836662",
     "status": "completed"
    },
    "tags": []
   },
   "outputs": [
    {
     "data": {
      "text/plain": [
       "0.7854601193408879"
      ]
     },
     "execution_count": 56,
     "metadata": {},
     "output_type": "execute_result"
    }
   ],
   "source": [
    "naivebayes_imp_accuracy = accuracy_score(y_test,test_pred)\n",
    "naivebayes_imp_accuracy"
   ]
  },
  {
   "cell_type": "markdown",
   "id": "cfecbc19",
   "metadata": {
    "papermill": {
     "duration": 0.093518,
     "end_time": "2022-05-19T19:05:13.167890",
     "exception": false,
     "start_time": "2022-05-19T19:05:13.074372",
     "status": "completed"
    },
    "tags": []
   },
   "source": [
    "conclusion: By using Naive bayes our model is not improving"
   ]
  },
  {
   "cell_type": "markdown",
   "id": "7bb68af7",
   "metadata": {
    "papermill": {
     "duration": 0.093157,
     "end_time": "2022-05-19T19:05:13.354976",
     "exception": false,
     "start_time": "2022-05-19T19:05:13.261819",
     "status": "completed"
    },
    "tags": []
   },
   "source": [
    "### d. KNN"
   ]
  },
  {
   "cell_type": "code",
   "execution_count": 57,
   "id": "6b8ec641",
   "metadata": {
    "execution": {
     "iopub.execute_input": "2022-05-19T19:05:13.544899Z",
     "iopub.status.busy": "2022-05-19T19:05:13.544546Z",
     "iopub.status.idle": "2022-05-19T19:05:13.549113Z",
     "shell.execute_reply": "2022-05-19T19:05:13.548065Z"
    },
    "papermill": {
     "duration": 0.101094,
     "end_time": "2022-05-19T19:05:13.551333",
     "exception": false,
     "start_time": "2022-05-19T19:05:13.450239",
     "status": "completed"
    },
    "tags": []
   },
   "outputs": [],
   "source": [
    "from sklearn.neighbors import KNeighborsClassifier"
   ]
  },
  {
   "cell_type": "code",
   "execution_count": 58,
   "id": "76eee172",
   "metadata": {
    "execution": {
     "iopub.execute_input": "2022-05-19T19:05:13.742848Z",
     "iopub.status.busy": "2022-05-19T19:05:13.742374Z",
     "iopub.status.idle": "2022-05-19T19:07:57.076757Z",
     "shell.execute_reply": "2022-05-19T19:07:57.075937Z"
    },
    "papermill": {
     "duration": 163.526614,
     "end_time": "2022-05-19T19:07:57.172445",
     "exception": false,
     "start_time": "2022-05-19T19:05:13.645831",
     "status": "completed"
    },
    "tags": []
   },
   "outputs": [
    {
     "data": {
      "text/plain": [
       "{1: [1.0, 0.8943997372310725],\n",
       " 2: [0.9589788507508987, 0.874363606503531],\n",
       " 3: [0.9380485757559168, 0.8951114030765862],\n",
       " 4: [0.9307859345632379, 0.8883779493074944],\n",
       " 5: [0.920402912355614, 0.8934690972792467],\n",
       " 6: [0.9164978741263845, 0.8919910220616412],\n",
       " 7: [0.91200890494699, 0.8934143537526688],\n",
       " 8: [0.9106950603091184, 0.8913340997427054],\n",
       " 9: [0.9063520738672652, 0.8913888432692834],\n",
       " 10: [0.9051294684403569, 0.8902392292111457],\n",
       " 11: [0.9027025054287331, 0.8896917939453659],\n",
       " 12: [0.9013521651064762, 0.8887611539935403],\n",
       " 13: [0.8991806718855495, 0.8890348716264301],\n",
       " 14: [0.898833962883889, 0.8889253845732742]}"
      ]
     },
     "execution_count": 58,
     "metadata": {},
     "output_type": "execute_result"
    }
   ],
   "source": [
    "accuracy={}\n",
    "error1=[]\n",
    "error2=[]\n",
    "for k in range(1,15,1):\n",
    "    knn=KNeighborsClassifier(n_neighbors=k,weights='uniform')\n",
    "    \n",
    "    #Fitting\n",
    "    knn.fit(x_train_sc,y_train)\n",
    "    \n",
    "    #Predicting\n",
    "    train_pred=knn.predict(x_train_sc)\n",
    "    test_pred=knn.predict(x_test_sc)\n",
    "    \n",
    "    #errors\n",
    "    error1.append(np.mean(y_train!= train_pred))\n",
    "    error2.append(np.mean(y_test!= test_pred))\n",
    "    \n",
    "    tr_acc=accuracy_score(y_train,train_pred)\n",
    "    \n",
    "    ts_acc=accuracy_score(y_test,test_pred)\n",
    "    \n",
    "    accuracy[k]=[tr_acc,ts_acc]\n",
    "accuracy"
   ]
  },
  {
   "cell_type": "markdown",
   "id": "a879341e",
   "metadata": {
    "papermill": {
     "duration": 0.135576,
     "end_time": "2022-05-19T19:07:57.450457",
     "exception": false,
     "start_time": "2022-05-19T19:07:57.314881",
     "status": "completed"
    },
    "tags": []
   },
   "source": [
    "at k = 8 ,we can get a good model"
   ]
  },
  {
   "cell_type": "code",
   "execution_count": 59,
   "id": "f2941e94",
   "metadata": {
    "execution": {
     "iopub.execute_input": "2022-05-19T19:07:57.643784Z",
     "iopub.status.busy": "2022-05-19T19:07:57.643341Z",
     "iopub.status.idle": "2022-05-19T19:07:57.833394Z",
     "shell.execute_reply": "2022-05-19T19:07:57.832315Z"
    },
    "papermill": {
     "duration": 0.289069,
     "end_time": "2022-05-19T19:07:57.835834",
     "exception": false,
     "start_time": "2022-05-19T19:07:57.546765",
     "status": "completed"
    },
    "tags": []
   },
   "outputs": [
    {
     "data": {
      "text/plain": [
       "<matplotlib.legend.Legend at 0x271c0e91bb0>"
      ]
     },
     "execution_count": 59,
     "metadata": {},
     "output_type": "execute_result"
    },
    {
     "data": {
      "image/png": "[encoded data removed]",
      "text/plain": [
       "<Figure size 720x360 with 1 Axes>"
      ]
     },
     "metadata": {
      "needs_background": "light"
     },
     "output_type": "display_data"
    }
   ],
   "source": [
    "# Visualising the different K neighbour models\n",
    "plt.figure(figsize=(10,5))\n",
    "plt.plot(range(1,15,1),error2,label=\"test\")\n",
    "plt.plot(range(1,15,1),error1,label=\"train\")\n",
    "plt.xlabel('k Value')\n",
    "plt.ylabel('Error')\n",
    "plt.legend()"
   ]
  },
  {
   "cell_type": "code",
   "execution_count": 60,
   "id": "8505487c",
   "metadata": {
    "execution": {
     "iopub.execute_input": "2022-05-19T19:07:58.027518Z",
     "iopub.status.busy": "2022-05-19T19:07:58.027228Z",
     "iopub.status.idle": "2022-05-19T19:08:12.102155Z",
     "shell.execute_reply": "2022-05-19T19:08:12.101264Z"
    },
    "papermill": {
     "duration": 14.173031,
     "end_time": "2022-05-19T19:08:12.104354",
     "exception": false,
     "start_time": "2022-05-19T19:07:57.931323",
     "status": "completed"
    },
    "tags": []
   },
   "outputs": [],
   "source": [
    "knn=KNeighborsClassifier(n_neighbors=8,weights='uniform')\n",
    "    \n",
    "knn.fit(x_train_sc,y_train)\n",
    "    \n",
    "train_pred=knn.predict(x_train_sc)\n",
    "test_pred=knn.predict(x_test_sc)\n",
    "    \n"
   ]
  },
  {
   "cell_type": "code",
   "execution_count": 61,
   "id": "abdc8d8b",
   "metadata": {
    "execution": {
     "iopub.execute_input": "2022-05-19T19:08:12.393568Z",
     "iopub.status.busy": "2022-05-19T19:08:12.392967Z",
     "iopub.status.idle": "2022-05-19T19:08:12.503938Z",
     "shell.execute_reply": "2022-05-19T19:08:12.502821Z"
    },
    "papermill": {
     "duration": 0.259418,
     "end_time": "2022-05-19T19:08:12.506238",
     "exception": false,
     "start_time": "2022-05-19T19:08:12.246820",
     "status": "completed"
    },
    "tags": []
   },
   "outputs": [
    {
     "name": "stdout",
     "output_type": "stream",
     "text": [
      "              precision    recall  f1-score   support\n",
      "\n",
      "           0       0.93      0.88      0.91     27413\n",
      "           1       0.89      0.94      0.91     27388\n",
      "\n",
      "    accuracy                           0.91     54801\n",
      "   macro avg       0.91      0.91      0.91     54801\n",
      "weighted avg       0.91      0.91      0.91     54801\n",
      "\n",
      "              precision    recall  f1-score   support\n",
      "\n",
      "           0       0.92      0.86      0.89      9121\n",
      "           1       0.87      0.92      0.89      9146\n",
      "\n",
      "    accuracy                           0.89     18267\n",
      "   macro avg       0.89      0.89      0.89     18267\n",
      "weighted avg       0.89      0.89      0.89     18267\n",
      "\n"
     ]
    }
   ],
   "source": [
    "print(classification_report(y_train,train_pred))\n",
    "print(classification_report(y_test,test_pred))"
   ]
  },
  {
   "cell_type": "code",
   "execution_count": 62,
   "id": "c56199c4",
   "metadata": {
    "execution": {
     "iopub.execute_input": "2022-05-19T19:08:12.801308Z",
     "iopub.status.busy": "2022-05-19T19:08:12.800791Z",
     "iopub.status.idle": "2022-05-19T19:08:12.809510Z",
     "shell.execute_reply": "2022-05-19T19:08:12.808227Z"
    },
    "papermill": {
     "duration": 0.160066,
     "end_time": "2022-05-19T19:08:12.812353",
     "exception": false,
     "start_time": "2022-05-19T19:08:12.652287",
     "status": "completed"
    },
    "tags": []
   },
   "outputs": [
    {
     "data": {
      "text/plain": [
       "0.8913340997427054"
      ]
     },
     "execution_count": 62,
     "metadata": {},
     "output_type": "execute_result"
    }
   ],
   "source": [
    "knn_accuracy = accuracy_score(y_test,test_pred)\n",
    "knn_accuracy"
   ]
  },
  {
   "cell_type": "markdown",
   "id": "788c4432",
   "metadata": {
    "papermill": {
     "duration": 0.145665,
     "end_time": "2022-05-19T19:08:13.101549",
     "exception": false,
     "start_time": "2022-05-19T19:08:12.955884",
     "status": "completed"
    },
    "tags": []
   },
   "source": [
    "conclusion: KNN is giving a good Model at K=8"
   ]
  },
  {
   "cell_type": "markdown",
   "id": "0944c264",
   "metadata": {
    "papermill": {
     "duration": 0.14273,
     "end_time": "2022-05-19T19:08:13.390858",
     "exception": false,
     "start_time": "2022-05-19T19:08:13.248128",
     "status": "completed"
    },
    "tags": []
   },
   "source": [
    "### e. SVM"
   ]
  },
  {
   "cell_type": "code",
   "execution_count": 63,
   "id": "4b2266b3",
   "metadata": {
    "execution": {
     "iopub.execute_input": "2022-05-19T19:08:13.690060Z",
     "iopub.status.busy": "2022-05-19T19:08:13.689724Z",
     "iopub.status.idle": "2022-05-19T19:10:49.752727Z",
     "shell.execute_reply": "2022-05-19T19:10:49.752056Z"
    },
    "papermill": {
     "duration": 156.311749,
     "end_time": "2022-05-19T19:10:49.849531",
     "exception": false,
     "start_time": "2022-05-19T19:08:13.537782",
     "status": "completed"
    },
    "tags": []
   },
   "outputs": [
    {
     "data": {
      "text/html": [
       "<style>#sk-container-id-3 {color: black;background-color: white;}#sk-container-id-3 pre{padding: 0;}#sk-container-id-3 div.sk-toggleable {background-color: white;}#sk-container-id-3 label.sk-toggleable__label {cursor: pointer;display: block;width: 100%;margin-bottom: 0;padding: 0.3em;box-sizing: border-box;text-align: center;}#sk-container-id-3 label.sk-toggleable__label-arrow:before {content: \"▸\";float: left;margin-right: 0.25em;color: #696969;}#sk-container-id-3 label.sk-toggleable__label-arrow:hover:before {color: black;}#sk-container-id-3 div.sk-estimator:hover label.sk-toggleable__label-arrow:before {color: black;}#sk-container-id-3 div.sk-toggleable__content {max-height: 0;max-width: 0;overflow: hidden;text-align: left;background-color: #f0f8ff;}#sk-container-id-3 div.sk-toggleable__content pre {margin: 0.2em;color: black;border-radius: 0.25em;background-color: #f0f8ff;}#sk-container-id-3 input.sk-toggleable__control:checked~div.sk-toggleable__content {max-height: 200px;max-width: 100%;overflow: auto;}#sk-container-id-3 input.sk-toggleable__control:checked~label.sk-toggleable__label-arrow:before {content: \"▾\";}#sk-container-id-3 div.sk-estimator input.sk-toggleable__control:checked~label.sk-toggleable__label {background-color: #d4ebff;}#sk-container-id-3 div.sk-label input.sk-toggleable__control:checked~label.sk-toggleable__label {background-color: #d4ebff;}#sk-container-id-3 input.sk-hidden--visually {border: 0;clip: rect(1px 1px 1px 1px);clip: rect(1px, 1px, 1px, 1px);height: 1px;margin: -1px;overflow: hidden;padding: 0;position: absolute;width: 1px;}#sk-container-id-3 div.sk-estimator {font-family: monospace;background-color: #f0f8ff;border: 1px dotted black;border-radius: 0.25em;box-sizing: border-box;margin-bottom: 0.5em;}#sk-container-id-3 div.sk-estimator:hover {background-color: #d4ebff;}#sk-container-id-3 div.sk-parallel-item::after {content: \"\";width: 100%;border-bottom: 1px solid gray;flex-grow: 1;}#sk-container-id-3 div.sk-label:hover label.sk-toggleable__label {background-color: #d4ebff;}#sk-container-id-3 div.sk-serial::before {content: \"\";position: absolute;border-left: 1px solid gray;box-sizing: border-box;top: 0;bottom: 0;left: 50%;z-index: 0;}#sk-container-id-3 div.sk-serial {display: flex;flex-direction: column;align-items: center;background-color: white;padding-right: 0.2em;padding-left: 0.2em;position: relative;}#sk-container-id-3 div.sk-item {position: relative;z-index: 1;}#sk-container-id-3 div.sk-parallel {display: flex;align-items: stretch;justify-content: center;background-color: white;position: relative;}#sk-container-id-3 div.sk-item::before, #sk-container-id-3 div.sk-parallel-item::before {content: \"\";position: absolute;border-left: 1px solid gray;box-sizing: border-box;top: 0;bottom: 0;left: 50%;z-index: -1;}#sk-container-id-3 div.sk-parallel-item {display: flex;flex-direction: column;z-index: 1;position: relative;background-color: white;}#sk-container-id-3 div.sk-parallel-item:first-child::after {align-self: flex-end;width: 50%;}#sk-container-id-3 div.sk-parallel-item:last-child::after {align-self: flex-start;width: 50%;}#sk-container-id-3 div.sk-parallel-item:only-child::after {width: 0;}#sk-container-id-3 div.sk-dashed-wrapped {border: 1px dashed gray;margin: 0 0.4em 0.5em 0.4em;box-sizing: border-box;padding-bottom: 0.4em;background-color: white;}#sk-container-id-3 div.sk-label label {font-family: monospace;font-weight: bold;display: inline-block;line-height: 1.2em;}#sk-container-id-3 div.sk-label-container {text-align: center;}#sk-container-id-3 div.sk-container {/* jupyter's `normalize.less` sets `[hidden] { display: none; }` but bootstrap.min.css set `[hidden] { display: none !important; }` so we also need the `!important` here to be able to override the default hidden behavior on the sphinx rendered scikit-learn.org. See: https://github.com/scikit-learn/scikit-learn/issues/21755 */display: inline-block !important;position: relative;}#sk-container-id-3 div.sk-text-repr-fallback {display: none;}</style><div id=\"sk-container-id-3\" class=\"sk-top-container\"><div class=\"sk-text-repr-fallback\"><pre>SVC(kernel=&#x27;poly&#x27;)</pre><b>In a Jupyter environment, please rerun this cell to show the HTML representation or trust the notebook. <br />On GitHub, the HTML representation is unable to render, please try loading this page with nbviewer.org.</b></div><div class=\"sk-container\" hidden><div class=\"sk-item\"><div class=\"sk-estimator sk-toggleable\"><input class=\"sk-toggleable__control sk-hidden--visually\" id=\"sk-estimator-id-3\" type=\"checkbox\" checked><label for=\"sk-estimator-id-3\" class=\"sk-toggleable__label sk-toggleable__label-arrow\">SVC</label><div class=\"sk-toggleable__content\"><pre>SVC(kernel=&#x27;poly&#x27;)</pre></div></div></div></div></div>"
      ],
      "text/plain": [
       "SVC(kernel='poly')"
      ]
     },
     "execution_count": 63,
     "metadata": {},
     "output_type": "execute_result"
    }
   ],
   "source": [
    "from sklearn.svm import SVC\n",
    "\n",
    "# build the model\n",
    "svclassifier = SVC(kernel = 'poly')\n",
    "\n",
    "# fit the model\n",
    "svclassifier.fit(x_train_sc, y_train)"
   ]
  },
  {
   "cell_type": "code",
   "execution_count": 64,
   "id": "dbade08d",
   "metadata": {
    "execution": {
     "iopub.execute_input": "2022-05-19T19:10:50.043436Z",
     "iopub.status.busy": "2022-05-19T19:10:50.043037Z",
     "iopub.status.idle": "2022-05-19T19:12:35.143839Z",
     "shell.execute_reply": "2022-05-19T19:12:35.142700Z"
    },
    "papermill": {
     "duration": 105.20064,
     "end_time": "2022-05-19T19:12:35.146318",
     "exception": false,
     "start_time": "2022-05-19T19:10:49.945678",
     "status": "completed"
    },
    "tags": []
   },
   "outputs": [],
   "source": [
    "# predict the values\n",
    "train_pred = svclassifier.predict(x_train_sc)\n",
    "\n",
    "test_pred =svclassifier.predict(x_test_sc)"
   ]
  },
  {
   "cell_type": "code",
   "execution_count": 65,
   "id": "5a9b96ef",
   "metadata": {
    "execution": {
     "iopub.execute_input": "2022-05-19T19:12:35.438612Z",
     "iopub.status.busy": "2022-05-19T19:12:35.438105Z",
     "iopub.status.idle": "2022-05-19T19:12:35.546448Z",
     "shell.execute_reply": "2022-05-19T19:12:35.545691Z"
    },
    "papermill": {
     "duration": 0.25757,
     "end_time": "2022-05-19T19:12:35.548289",
     "exception": false,
     "start_time": "2022-05-19T19:12:35.290719",
     "status": "completed"
    },
    "tags": []
   },
   "outputs": [
    {
     "name": "stdout",
     "output_type": "stream",
     "text": [
      "              precision    recall  f1-score   support\n",
      "\n",
      "           0       0.89      0.83      0.86     27413\n",
      "           1       0.84      0.90      0.87     27388\n",
      "\n",
      "    accuracy                           0.86     54801\n",
      "   macro avg       0.87      0.86      0.86     54801\n",
      "weighted avg       0.87      0.86      0.86     54801\n",
      "\n",
      "              precision    recall  f1-score   support\n",
      "\n",
      "           0       0.89      0.83      0.86      9121\n",
      "           1       0.84      0.90      0.87      9146\n",
      "\n",
      "    accuracy                           0.87     18267\n",
      "   macro avg       0.87      0.87      0.87     18267\n",
      "weighted avg       0.87      0.87      0.87     18267\n",
      "\n"
     ]
    }
   ],
   "source": [
    "print(classification_report(y_train,train_pred))\n",
    "print(classification_report(y_test,test_pred))"
   ]
  },
  {
   "cell_type": "code",
   "execution_count": 66,
   "id": "aa9a168a",
   "metadata": {
    "execution": {
     "iopub.execute_input": "2022-05-19T19:12:35.742707Z",
     "iopub.status.busy": "2022-05-19T19:12:35.742295Z",
     "iopub.status.idle": "2022-05-19T19:12:35.749854Z",
     "shell.execute_reply": "2022-05-19T19:12:35.748798Z"
    },
    "papermill": {
     "duration": 0.106268,
     "end_time": "2022-05-19T19:12:35.751359",
     "exception": false,
     "start_time": "2022-05-19T19:12:35.645091",
     "status": "completed"
    },
    "tags": []
   },
   "outputs": [
    {
     "data": {
      "text/plain": [
       "0.8652761810915859"
      ]
     },
     "execution_count": 66,
     "metadata": {},
     "output_type": "execute_result"
    }
   ],
   "source": [
    "svc_accuracy=accuracy_score(y_test,test_pred)\n",
    "svc_accuracy"
   ]
  },
  {
   "cell_type": "markdown",
   "id": "8dc53daf",
   "metadata": {
    "papermill": {
     "duration": 0.095477,
     "end_time": "2022-05-19T19:12:35.942961",
     "exception": false,
     "start_time": "2022-05-19T19:12:35.847484",
     "status": "completed"
    },
    "tags": []
   },
   "source": [
    "### Q4. Tabulate the performance metrics"
   ]
  },
  {
   "cell_type": "code",
   "execution_count": 67,
   "id": "6d852e2f",
   "metadata": {
    "execution": {
     "iopub.execute_input": "2022-05-19T19:12:36.138454Z",
     "iopub.status.busy": "2022-05-19T19:12:36.138200Z",
     "iopub.status.idle": "2022-05-19T19:12:36.148806Z",
     "shell.execute_reply": "2022-05-19T19:12:36.147678Z"
    },
    "papermill": {
     "duration": 0.112046,
     "end_time": "2022-05-19T19:12:36.151448",
     "exception": false,
     "start_time": "2022-05-19T19:12:36.039402",
     "status": "completed"
    },
    "tags": []
   },
   "outputs": [
    {
     "data": {
      "text/html": [
       "<div>\n",
       "<style scoped>\n",
       "    .dataframe tbody tr th:only-of-type {\n",
       "        vertical-align: middle;\n",
       "    }\n",
       "\n",
       "    .dataframe tbody tr th {\n",
       "        vertical-align: top;\n",
       "    }\n",
       "\n",
       "    .dataframe thead th {\n",
       "        text-align: right;\n",
       "    }\n",
       "</style>\n",
       "<table border=\"1\" class=\"dataframe\">\n",
       "  <thead>\n",
       "    <tr style=\"text-align: right;\">\n",
       "      <th></th>\n",
       "      <th>Classification Model</th>\n",
       "      <th>Accuracy</th>\n",
       "    </tr>\n",
       "  </thead>\n",
       "  <tbody>\n",
       "    <tr>\n",
       "      <th>0</th>\n",
       "      <td>LOGISTIC</td>\n",
       "      <td>0.850824</td>\n",
       "    </tr>\n",
       "    <tr>\n",
       "      <th>1</th>\n",
       "      <td>ADABOOST</td>\n",
       "      <td>0.882739</td>\n",
       "    </tr>\n",
       "    <tr>\n",
       "      <th>2</th>\n",
       "      <td>NAIVE-BAYES</td>\n",
       "      <td>0.785460</td>\n",
       "    </tr>\n",
       "    <tr>\n",
       "      <th>3</th>\n",
       "      <td>KNN</td>\n",
       "      <td>0.891334</td>\n",
       "    </tr>\n",
       "    <tr>\n",
       "      <th>4</th>\n",
       "      <td>SVM</td>\n",
       "      <td>0.865276</td>\n",
       "    </tr>\n",
       "  </tbody>\n",
       "</table>\n",
       "</div>"
      ],
      "text/plain": [
       "  Classification Model  Accuracy\n",
       "0             LOGISTIC  0.850824\n",
       "1             ADABOOST  0.882739\n",
       "2          NAIVE-BAYES  0.785460\n",
       "3                  KNN  0.891334\n",
       "4                  SVM  0.865276"
      ]
     },
     "execution_count": 67,
     "metadata": {},
     "output_type": "execute_result"
    }
   ],
   "source": [
    "models_Accuracy_df=pd.DataFrame({'Classification Model':['LOGISTIC','ADABOOST',\"NAIVE-BAYES\",'KNN','SVM'],\n",
    "                               'Accuracy':[ log_full_accuracy,  adaboost_full_accuracy, naivebayes_imp_accuracy, knn_accuracy, svc_accuracy]})\n",
    "models_Accuracy_df"
   ]
  },
  {
   "cell_type": "markdown",
   "id": "8de91e1e",
   "metadata": {
    "papermill": {
     "duration": 0.102366,
     "end_time": "2022-05-19T19:12:36.350360",
     "exception": false,
     "start_time": "2022-05-19T19:12:36.247994",
     "status": "completed"
    },
    "tags": []
   },
   "source": [
    "## Best Model in KNN equal to 88% "
   ]
  },
  {
   "cell_type": "code",
   "execution_count": null,
   "id": "efed619d",
   "metadata": {
    "papermill": {
     "duration": 0.098306,
     "end_time": "2022-05-19T19:12:36.547474",
     "exception": false,
     "start_time": "2022-05-19T19:12:36.449168",
     "status": "completed"
    },
    "tags": []
   },
   "outputs": [],
   "source": []
  }
 ],
 "metadata": {
  "kernelspec": {
   "display_name": "Python 3 (ipykernel)",
   "language": "python",
   "name": "python3"
  },
  "language_info": {
   "codemirror_mode": {
    "name": "ipython",
    "version": 3
   },
   "file_extension": ".py",
   "mimetype": "text/x-python",
   "name": "python",
   "nbconvert_exporter": "python",
   "pygments_lexer": "ipython3",
   "version": "3.9.12"
  },
  "papermill": {
   "default_parameters": {},
   "duration": 487.937169,
   "end_time": "2022-05-19T19:12:37.774533",
   "environment_variables": {},
   "exception": null,
   "input_path": "__notebook__.ipynb",
   "output_path": "__notebook__.ipynb",
   "parameters": {},
   "start_time": "2022-05-19T19:04:29.837364",
   "version": "2.3.4"
  }
 },
 "nbformat": 4,
 "nbformat_minor": 5
}
